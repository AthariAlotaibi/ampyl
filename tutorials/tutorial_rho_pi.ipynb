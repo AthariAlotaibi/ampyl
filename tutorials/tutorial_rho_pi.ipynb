{
 "cells": [
  {
   "cell_type": "code",
   "execution_count": 1,
   "id": "8acc0ae6",
   "metadata": {},
   "outputs": [],
   "source": [
    "%load_ext autoreload\n",
    "%autoreload 2"
   ]
  },
  {
   "cell_type": "code",
   "execution_count": 2,
   "id": "bab093ea",
   "metadata": {},
   "outputs": [],
   "source": [
    "import numpy as np\n",
    "import ampyl\n",
    "import matplotlib.pyplot as plt\n",
    "from scipy.optimize import root_scalar"
   ]
  },
  {
   "cell_type": "markdown",
   "id": "67f58f73",
   "metadata": {},
   "source": [
    "## Construct the $\\rho \\pi$ index space"
   ]
  },
  {
   "cell_type": "code",
   "execution_count": 3,
   "id": "a5e8ac1c",
   "metadata": {},
   "outputs": [
    {
     "name": "stdout",
     "output_type": "stream",
     "text": [
      "kellm space has size 228\n",
      "\n",
      "    A1PLUS  covers 12x1 = 12 slots\n",
      "    A2PLUS  covers 4x1 = 4 slots\n",
      "    EPLUS   covers 14x2 = 28 slots\n",
      "    T1PLUS  covers 10x3 = 30 slots\n",
      "    T2PLUS  covers 13x3 = 39 slots\n",
      "    A1MINUS covers 1x1 = 1 slots\n",
      "    A2MINUS covers 4x1 = 4 slots\n",
      "    EMINUS  covers 4x2 = 8 slots\n",
      "    T1MINUS covers 21x3 = 63 slots\n",
      "    T2MINUS covers 13x3 = 39 slots\n",
      "\n",
      "Total is 228 \n",
      "Total matches size of kellm space\n",
      "\n",
      " [('A1PLUS', 0), ('A2PLUS', 0), ('EPLUS', 1), ('T1PLUS', 1), ('T2PLUS', 1), ('A1MINUS', 0), ('A2MINUS', 0), ('EMINUS', 0), ('T1MINUS', 1), ('T2MINUS', 0)]\n"
     ]
    }
   ],
   "source": [
    "fc = ampyl.FlavorChannel(3, isospin_value=2)\n",
    "fcs = ampyl.FlavorChannelSpace(fc_list=[fc])\n",
    "fvs = ampyl.FiniteVolumeSetup()\n",
    "tbis = ampyl.ThreeBodyInteractionScheme()\n",
    "\n",
    "qcis = ampyl.QCIndexSpace(fcs=fcs, fvs=fvs, tbis=tbis, Emax=5.0, Lmax=6.0)\n",
    "print(qcis.proj_dict['summary'])\n",
    "print('\\n', qcis.proj_dict['best_irreps'])"
   ]
  },
  {
   "cell_type": "markdown",
   "id": "d16bb7c9",
   "metadata": {},
   "source": [
    "## Evaluate the $\\rho \\pi$ quantization condition\n",
    "\n",
    "The K-matrix parameters are passed using `k_params`. In this case we have a single flavor channel with two spectator channels. Each spectaor channel has a single free parameter (the scattering volume for the $I_{\\pi \\pi}=1$ channel ($a_\\rho$) and the scattering length for the $I_{\\pi \\pi} = 2$ channel ($a_0$)). The three-particle interaction is also described by a single constant ($\\alpha$).\n",
    "\n",
    "This leads to the following structure for `k_params`:\n",
    "\n",
    "`k_params = [[[a_rho], [a_0]], [alpha]]`.\n",
    "\n",
    "This structure, populated with zeroes, is given by `qcis.default_k_params()`.\n",
    "\n",
    "The zero-crossing in the plot below is an interacting solution."
   ]
  },
  {
   "cell_type": "code",
   "execution_count": 4,
   "id": "881ead04",
   "metadata": {
    "scrolled": false
   },
   "outputs": [
    {
     "data": {
      "text/plain": [
       "(-2.0, 2.0)"
      ]
     },
     "execution_count": 4,
     "metadata": {},
     "output_type": "execute_result"
    },
    {
     "data": {
      "image/png": "[encoded data removed]",
      "text/plain": [
       "<Figure size 432x288 with 1 Axes>"
      ]
     },
     "metadata": {
      "needs_background": "light"
     },
     "output_type": "display_data"
    }
   ],
   "source": [
    "k_params = [[[0.05], [0.05]], [0.0]]\n",
    "qc = ampyl.QC(qcis=qcis)\n",
    "E = 5.0\n",
    "L = 5.0\n",
    "E_vals = np.arange(4.1, 4.3, 0.002)\n",
    "qc_vals = []\n",
    "\n",
    "for E in E_vals:\n",
    "    qc_tmp = qc.get_value(E=E, L=L, k_params=k_params, irrep=('A1PLUS', 0))\n",
    "    qc_vals = qc_vals+[qc_tmp]\n",
    "qc_vals = np.array(qc_vals)\n",
    "plt.plot(E_vals, qc_vals)\n",
    "plt.plot([4.1, 4.3], [0.]*2, 'k')\n",
    "plt.ylim(-2., 2.)"
   ]
  },
  {
   "cell_type": "markdown",
   "id": "b4352169",
   "metadata": {},
   "source": [
    "## Evaluate $E_n(L)$ vs $L$\n",
    "\n",
    "The final step is to use `root_scalar` to find the solution as a function of $L$. This works well if the solution can be bracketed, in this case using the nearby non-interaction solution."
   ]
  },
  {
   "cell_type": "code",
   "execution_count": 5,
   "id": "2c6bdba4",
   "metadata": {},
   "outputs": [],
   "source": [
    "k_params = [[[0.05], [0.05]], [0.0]]\n",
    "irrep=('A1PLUS', 0)\n",
    "L_vals = np.arange(3.81, 6.0, 0.2)\n",
    "delta1 = 0.00001\n",
    "delta2 = 0.1\n",
    "En_vals = []\n",
    "for L in L_vals:\n",
    "    E_non_int = 1.0+2.0*np.sqrt(1.0+4.0*np.pi**2/L**2)\n",
    "    sol_tmp = root_scalar(qc.get_value, args=(L, k_params, True, irrep),\n",
    "                          bracket=[E_non_int+delta1, E_non_int+delta2]).root\n",
    "    En_vals = En_vals+[sol_tmp]\n",
    "En_vals = np.array(En_vals)"
   ]
  },
  {
   "cell_type": "code",
   "execution_count": 6,
   "id": "337ed8b9",
   "metadata": {},
   "outputs": [
    {
     "data": {
      "text/plain": [
       "[<matplotlib.lines.Line2D at 0x7fed79890460>]"
      ]
     },
     "execution_count": 6,
     "metadata": {},
     "output_type": "execute_result"
    },
    {
     "data": {
      "image/png": "[encoded data removed]",
      "text/plain": [
       "<Figure size 432x288 with 1 Axes>"
      ]
     },
     "metadata": {
      "needs_background": "light"
     },
     "output_type": "display_data"
    }
   ],
   "source": [
    "E_non_int_vals = 1.0+2.0*np.sqrt(1.0+4.0*np.pi**2/L_vals**2)\n",
    "plt.plot(L_vals, En_vals)\n",
    "plt.plot(L_vals, E_non_int_vals, 'k--')"
   ]
  }
 ],
 "metadata": {
  "kernelspec": {
   "display_name": "Python 3 (ipykernel)",
   "language": "python",
   "name": "python3"
  },
  "language_info": {
   "codemirror_mode": {
    "name": "ipython",
    "version": 3
   },
   "file_extension": ".py",
   "mimetype": "text/x-python",
   "name": "python",
   "nbconvert_exporter": "python",
   "pygments_lexer": "ipython3",
   "version": "3.9.7"
  }
 },
 "nbformat": 4,
 "nbformat_minor": 5
}
