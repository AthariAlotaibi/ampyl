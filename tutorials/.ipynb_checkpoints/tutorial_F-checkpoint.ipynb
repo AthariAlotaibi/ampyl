{
 "cells": [
  {
   "cell_type": "code",
   "execution_count": 1,
   "id": "8acc0ae6",
   "metadata": {},
   "outputs": [],
   "source": [
    "%load_ext autoreload\n",
    "%autoreload 2"
   ]
  },
  {
   "cell_type": "code",
   "execution_count": 2,
   "id": "bab093ea",
   "metadata": {},
   "outputs": [],
   "source": [
    "import os\n",
    "import sys\n",
    "import numpy as np\n",
    "sys.path.append(os.path.abspath('.')+'/../ampyl')\n",
    "import ampyl"
   ]
  },
  {
   "cell_type": "markdown",
   "id": "11c01ec6",
   "metadata": {
    "heading_collapsed": true
   },
   "source": [
    "## Explicit, P=[000]"
   ]
  },
  {
   "cell_type": "code",
   "execution_count": 3,
   "id": "4f83e641",
   "metadata": {
    "hidden": true
   },
   "outputs": [
    {
     "name": "stdout",
     "output_type": "stream",
     "text": [
      "FlavorChannel with the following details:\n",
      "    3 particles,\n",
      "    masses: [1.0, 1.0, 1.0],\n",
      "    spins: [0, 0, 0],\n",
      "    explicit_flavor_channel: True,\n",
      "    explicit_flavors: [1, 1, 1],\n",
      "    isospin_channel: False,\n",
      "    isospin_value: None,\n",
      "    isospin_flavor: None.\n"
     ]
    }
   ],
   "source": [
    "fc = ampyl.FlavorChannel(3)\n",
    "print(fc)\n",
    "fcs = ampyl.FlavorChannelSpace(fc_list=[fc])\n",
    "fvs = ampyl.FiniteVolumeSetup()\n",
    "tbis = ampyl.ThreeBodyInteractionScheme()\n",
    "qcis = ampyl.QCIndexSpace(fcs=fcs, fvs=fvs, tbis=tbis, Emax=5.0, Lmax=7.0)"
   ]
  },
  {
   "cell_type": "code",
   "execution_count": 4,
   "id": "9be991cf",
   "metadata": {
    "hidden": true
   },
   "outputs": [],
   "source": [
    "f = ampyl.F(qcis=qcis)"
   ]
  },
  {
   "cell_type": "code",
   "execution_count": 5,
   "id": "38135d32",
   "metadata": {
    "hidden": true
   },
   "outputs": [],
   "source": [
    "ftmp = f.get_shell(E=5.0,\n",
    "    L=7.0,\n",
    "    m1=1.0,\n",
    "    m2=1.0,\n",
    "    m3=1.0,\n",
    "    cindex=0,\n",
    "    ell1=1,\n",
    "    ell2=1,\n",
    "    tbks_entry=qcis.tbks_list[0][0],\n",
    "    slice_index=1,\n",
    "    project=False,\n",
    "    irrep=None)"
   ]
  },
  {
   "cell_type": "code",
   "execution_count": 6,
   "id": "e63a2811",
   "metadata": {
    "hidden": true
   },
   "outputs": [],
   "source": [
    "F = f.get_value(E=5.0, L=7.0, project=False, irrep=None)"
   ]
  },
  {
   "cell_type": "code",
   "execution_count": 7,
   "id": "b12ac7a1",
   "metadata": {
    "hidden": true
   },
   "outputs": [
    {
     "data": {
      "text/plain": [
       "(81, 81)"
      ]
     },
     "execution_count": 7,
     "metadata": {},
     "output_type": "execute_result"
    }
   ],
   "source": [
    "F.shape"
   ]
  },
  {
   "cell_type": "code",
   "execution_count": 8,
   "id": "e971fed3",
   "metadata": {
    "hidden": true
   },
   "outputs": [
    {
     "data": {
      "text/plain": [
       "True"
      ]
     },
     "execution_count": 8,
     "metadata": {},
     "output_type": "execute_result"
    }
   ],
   "source": [
    "(np.abs(np.diag(np.diag(F))-F) < 1.0e-15).all()"
   ]
  },
  {
   "cell_type": "code",
   "execution_count": 9,
   "id": "ab664a7c",
   "metadata": {
    "hidden": true
   },
   "outputs": [
    {
     "data": {
      "text/plain": [
       "(81, 5)"
      ]
     },
     "execution_count": 9,
     "metadata": {},
     "output_type": "execute_result"
    }
   ],
   "source": [
    "qcis.kellm_spaces[0][0].shape"
   ]
  },
  {
   "cell_type": "code",
   "execution_count": 10,
   "id": "ec2fdd9d",
   "metadata": {
    "hidden": true
   },
   "outputs": [
    {
     "data": {
      "text/plain": [
       "array([0, 0, 0, 0, 0])"
      ]
     },
     "execution_count": 10,
     "metadata": {},
     "output_type": "execute_result"
    }
   ],
   "source": [
    "qcis.kellm_spaces[0][0][0]"
   ]
  },
  {
   "cell_type": "code",
   "execution_count": 11,
   "id": "37fd746f",
   "metadata": {
    "hidden": true
   },
   "outputs": [],
   "source": [
    "F_direct = []\n",
    "for kellm_entry in qcis.kellm_spaces[0][0]:\n",
    "    nvec = kellm_entry[:3]\n",
    "    Ftmp = ampyl.QCFunctions.getF_single_entry(E=5.0,\n",
    "        nP=np.array([0, 0, 0]),\n",
    "        L=7.0,\n",
    "        npspec=nvec,\n",
    "        m1=1.0,\n",
    "        m2=1.0,\n",
    "        mspec=1.0,\n",
    "        C1cut=3,\n",
    "        alphaKSS=1.0,\n",
    "        alpha=-1.0,\n",
    "        beta=0.0,\n",
    "        ell1=0,\n",
    "        mazi1=0,\n",
    "        ell2=0,\n",
    "        mazi2=0,\n",
    "        three_scheme='relativistic pole',\n",
    "        qc_organization='hermitian, real harmonics')\n",
    "    F_direct = F_direct+[Ftmp]\n",
    "F_direct = np.array(F_direct)"
   ]
  },
  {
   "cell_type": "code",
   "execution_count": 12,
   "id": "76781460",
   "metadata": {
    "hidden": true
   },
   "outputs": [
    {
     "data": {
      "text/plain": [
       "True"
      ]
     },
     "execution_count": 12,
     "metadata": {},
     "output_type": "execute_result"
    }
   ],
   "source": [
    "(np.abs(F_direct - np.diag(F)) < 1.0e-10).all()"
   ]
  },
  {
   "cell_type": "code",
   "execution_count": null,
   "id": "d7ba60d5",
   "metadata": {
    "hidden": true
   },
   "outputs": [],
   "source": []
  },
  {
   "cell_type": "markdown",
   "id": "e6b9cbff",
   "metadata": {
    "heading_collapsed": true
   },
   "source": [
    "## Explicit, P=[000]"
   ]
  },
  {
   "cell_type": "code",
   "execution_count": 27,
   "id": "22c89a19",
   "metadata": {
    "hidden": true,
    "scrolled": true
   },
   "outputs": [
    {
     "name": "stdout",
     "output_type": "stream",
     "text": [
      "FlavorChannel with the following details:\n",
      "    3 particles,\n",
      "    masses: [1.0, 1.0, 1.0],\n",
      "    spins: [0, 0, 0],\n",
      "    explicit_flavor_channel: True,\n",
      "    explicit_flavors: [1, 1, 1],\n",
      "    isospin_channel: False,\n",
      "    isospin_value: None,\n",
      "    isospin_flavor: None.\n"
     ]
    }
   ],
   "source": [
    "fc = ampyl.FlavorChannel(3)\n",
    "print(fc)\n",
    "fcs = ampyl.FlavorChannelSpace(fc_list=[fc])\n",
    "# fcs.sc_list[0].ell_set = [4]\n",
    "fvs = ampyl.FiniteVolumeSetup()\n",
    "tbis = ampyl.ThreeBodyInteractionScheme()\n",
    "qcis = ampyl.QCIndexSpace(fcs=fcs, fvs=fvs, tbis=tbis, Emax=5.0, Lmax=7.0)"
   ]
  },
  {
   "cell_type": "code",
   "execution_count": 28,
   "id": "8079befc",
   "metadata": {
    "hidden": true
   },
   "outputs": [],
   "source": [
    "f = ampyl.F(qcis=qcis)"
   ]
  },
  {
   "cell_type": "code",
   "execution_count": 29,
   "id": "e27b2302",
   "metadata": {
    "hidden": true
   },
   "outputs": [],
   "source": [
    "ftmp = f.get_shell(E=5.0,\n",
    "    L=7.0,\n",
    "    m1=1.0,\n",
    "    m2=1.0,\n",
    "    m3=1.0,\n",
    "    cindex=0,\n",
    "    ell1=1,\n",
    "    ell2=1,\n",
    "    tbks_entry=qcis.tbks_list[0][0],\n",
    "    slice_index=1,\n",
    "    project=False,\n",
    "    irrep=None)"
   ]
  },
  {
   "cell_type": "code",
   "execution_count": 30,
   "id": "6ac766c9",
   "metadata": {
    "hidden": true
   },
   "outputs": [],
   "source": [
    "F = f.get_value(E=5.0, L=7.0, project=False, irrep=None)"
   ]
  },
  {
   "cell_type": "code",
   "execution_count": 31,
   "id": "ce4c4917",
   "metadata": {
    "hidden": true
   },
   "outputs": [
    {
     "data": {
      "text/plain": [
       "(81, 81)"
      ]
     },
     "execution_count": 31,
     "metadata": {},
     "output_type": "execute_result"
    }
   ],
   "source": [
    "F.shape"
   ]
  },
  {
   "cell_type": "code",
   "execution_count": 32,
   "id": "ebe199db",
   "metadata": {
    "hidden": true
   },
   "outputs": [
    {
     "data": {
      "text/plain": [
       "True"
      ]
     },
     "execution_count": 32,
     "metadata": {},
     "output_type": "execute_result"
    }
   ],
   "source": [
    "(np.abs(np.diag(np.diag(F))-F) < 1.0e-15).all()"
   ]
  },
  {
   "cell_type": "code",
   "execution_count": 33,
   "id": "3b226ada",
   "metadata": {
    "hidden": true
   },
   "outputs": [
    {
     "data": {
      "text/plain": [
       "(81, 5)"
      ]
     },
     "execution_count": 33,
     "metadata": {},
     "output_type": "execute_result"
    }
   ],
   "source": [
    "qcis.kellm_spaces[0][0].shape"
   ]
  },
  {
   "cell_type": "code",
   "execution_count": 34,
   "id": "65dc3433",
   "metadata": {
    "hidden": true
   },
   "outputs": [
    {
     "data": {
      "text/plain": [
       "array([0, 0, 0, 0, 0])"
      ]
     },
     "execution_count": 34,
     "metadata": {},
     "output_type": "execute_result"
    }
   ],
   "source": [
    "qcis.kellm_spaces[0][0][0]"
   ]
  },
  {
   "cell_type": "code",
   "execution_count": 35,
   "id": "e5be0ad5",
   "metadata": {
    "hidden": true
   },
   "outputs": [],
   "source": [
    "F_direct = [[]]\n",
    "for kellm_entry_row in qcis.kellm_spaces[0][0]:\n",
    "    F_direct_row = []\n",
    "    for kellm_entry_col in qcis.kellm_spaces[0][0]:\n",
    "        nvec_row = kellm_entry_row[:3]\n",
    "        nvec_col = kellm_entry_col[:3]\n",
    "        if not (nvec_row == nvec_col).all():\n",
    "            Ftmp = 0.0\n",
    "        else:\n",
    "            ell1 = kellm_entry_row[3]\n",
    "            mazi1 = kellm_entry_row[4]\n",
    "            ell2 = kellm_entry_col[3]\n",
    "            mazi2 = kellm_entry_col[4]\n",
    "\n",
    "            Ftmp = ampyl.QCFunctions.getF_single_entry(E=5.0,\n",
    "                nP=np.array([0, 0, 0]),\n",
    "                L=7.0,\n",
    "                npspec=nvec_row,\n",
    "                m1=1.0,\n",
    "                m2=1.0,\n",
    "                mspec=1.0,\n",
    "                C1cut=3,\n",
    "                alphaKSS=1.0,\n",
    "                alpha=-1.0,\n",
    "                beta=0.0,\n",
    "                ell1=ell1,\n",
    "                mazi1=mazi1,\n",
    "                ell2=ell2,\n",
    "                mazi2=mazi2,\n",
    "                three_scheme='relativistic pole',\n",
    "                qc_organization='hermitian, real harmonics')\n",
    "        F_direct_row = F_direct_row+[Ftmp]\n",
    "    F_direct = F_direct+[F_direct_row]\n",
    "F_direct = np.array(F_direct[1:])"
   ]
  },
  {
   "cell_type": "code",
   "execution_count": 36,
   "id": "4e5bc275",
   "metadata": {
    "hidden": true
   },
   "outputs": [
    {
     "data": {
      "text/plain": [
       "True"
      ]
     },
     "execution_count": 36,
     "metadata": {},
     "output_type": "execute_result"
    }
   ],
   "source": [
    "(np.abs(F_direct - F) < 1.0e-10).all()"
   ]
  },
  {
   "cell_type": "code",
   "execution_count": 37,
   "id": "96199ce9",
   "metadata": {
    "hidden": true
   },
   "outputs": [],
   "source": [
    "F = f.get_value(E=5.0, L=7.0, project=True, irrep=('A1PLUS', 0))"
   ]
  },
  {
   "cell_type": "code",
   "execution_count": 39,
   "id": "ef955a6f",
   "metadata": {
    "hidden": true
   },
   "outputs": [
    {
     "data": {
      "text/plain": [
       "array([[-6.00238468e-06,  0.00000000e+00,  0.00000000e+00,\n",
       "         0.00000000e+00,  0.00000000e+00,  0.00000000e+00,\n",
       "         0.00000000e+00],\n",
       "       [ 0.00000000e+00,  2.29386700e-06,  0.00000000e+00,\n",
       "         0.00000000e+00,  0.00000000e+00,  0.00000000e+00,\n",
       "         0.00000000e+00],\n",
       "       [ 0.00000000e+00,  0.00000000e+00,  2.77089697e-06,\n",
       "         0.00000000e+00,  0.00000000e+00,  0.00000000e+00,\n",
       "         0.00000000e+00],\n",
       "       [ 0.00000000e+00,  0.00000000e+00,  0.00000000e+00,\n",
       "         4.82889564e-06,  0.00000000e+00,  0.00000000e+00,\n",
       "         0.00000000e+00],\n",
       "       [ 0.00000000e+00,  0.00000000e+00,  0.00000000e+00,\n",
       "         0.00000000e+00, -1.38042503e-06,  0.00000000e+00,\n",
       "         0.00000000e+00],\n",
       "       [ 0.00000000e+00,  0.00000000e+00,  0.00000000e+00,\n",
       "         0.00000000e+00,  0.00000000e+00,  2.22294111e-06,\n",
       "         0.00000000e+00],\n",
       "       [ 0.00000000e+00,  0.00000000e+00,  0.00000000e+00,\n",
       "         0.00000000e+00,  0.00000000e+00,  0.00000000e+00,\n",
       "         4.63151213e-06]])"
      ]
     },
     "execution_count": 39,
     "metadata": {},
     "output_type": "execute_result"
    }
   ],
   "source": [
    "F.ma"
   ]
  },
  {
   "cell_type": "code",
   "execution_count": 38,
   "id": "e695b948",
   "metadata": {
    "hidden": true
   },
   "outputs": [
    {
     "data": {
      "text/plain": [
       "array([[1.]])"
      ]
     },
     "execution_count": 38,
     "metadata": {},
     "output_type": "execute_result"
    }
   ],
   "source": [
    "f.qcis.sc_proj_dicts_sliced[0][0]['A1PLUS', 0]"
   ]
  },
  {
   "cell_type": "markdown",
   "id": "a10c572f",
   "metadata": {},
   "source": [
    "## Explicit, P=[000]"
   ]
  },
  {
   "cell_type": "code",
   "execution_count": 67,
   "id": "2661ea34",
   "metadata": {
    "scrolled": true
   },
   "outputs": [
    {
     "name": "stdout",
     "output_type": "stream",
     "text": [
      "FlavorChannel with the following details:\n",
      "    3 particles,\n",
      "    masses: [1.0, 1.0, 1.0],\n",
      "    spins: [0, 0, 0],\n",
      "    explicit_flavor_channel: False,\n",
      "    explicit_flavors: None,\n",
      "    isospin_channel: True,\n",
      "    isospin_value: 2,\n",
      "    isospin_flavor: 0.\n"
     ]
    }
   ],
   "source": [
    "fc = ampyl.FlavorChannel(3, isospin_value=2)\n",
    "print(fc)\n",
    "fcs = ampyl.FlavorChannelSpace(fc_list=[fc])\n",
    "fvs = ampyl.FiniteVolumeSetup()\n",
    "tbis = ampyl.ThreeBodyInteractionScheme()\n",
    "qcis = ampyl.QCIndexSpace(fcs=fcs, fvs=fvs, tbis=tbis, Emax=5.0, Lmax=5.0)"
   ]
  },
  {
   "cell_type": "code",
   "execution_count": 170,
   "id": "03a60618",
   "metadata": {},
   "outputs": [
    {
     "name": "stdout",
     "output_type": "stream",
     "text": [
      "kellm space has size 108\n",
      "\n",
      "    A1PLUS  covers 7x1 = 7 slots\n",
      "    A2PLUS  covers 1x1 = 1 slots\n",
      "    EPLUS   covers 6x2 = 12 slots\n",
      "    T1PLUS  covers 4x3 = 12 slots\n",
      "    T2PLUS  covers 7x3 = 21 slots\n",
      "    A2MINUS covers 3x1 = 3 slots\n",
      "    EMINUS  covers 2x2 = 4 slots\n",
      "    T1MINUS covers 11x3 = 33 slots\n",
      "    T2MINUS covers 5x3 = 15 slots\n",
      "\n",
      "Total is 108 \n",
      "Total matches size of kellm space\n"
     ]
    }
   ],
   "source": [
    "print(qcis.proj_dict['summary'])"
   ]
  },
  {
   "cell_type": "code",
   "execution_count": 75,
   "id": "cc66b966",
   "metadata": {},
   "outputs": [
    {
     "data": {
      "text/plain": [
       "27"
      ]
     },
     "execution_count": 75,
     "metadata": {},
     "output_type": "execute_result"
    }
   ],
   "source": [
    "len(qcis.tbks_list[0][0].nvec_arr)"
   ]
  },
  {
   "cell_type": "code",
   "execution_count": 73,
   "id": "92543f8c",
   "metadata": {},
   "outputs": [
    {
     "data": {
      "text/plain": [
       "[0]"
      ]
     },
     "execution_count": 73,
     "metadata": {},
     "output_type": "execute_result"
    }
   ],
   "source": [
    "fcs.sc_list[1].ell_set"
   ]
  },
  {
   "cell_type": "code",
   "execution_count": 76,
   "id": "7734eb5d",
   "metadata": {},
   "outputs": [
    {
     "data": {
      "text/plain": [
       "(27, 5)"
      ]
     },
     "execution_count": 76,
     "metadata": {},
     "output_type": "execute_result"
    }
   ],
   "source": [
    "qcis.kellm_spaces[1][0].shape"
   ]
  },
  {
   "cell_type": "code",
   "execution_count": 66,
   "id": "9c77b9e4",
   "metadata": {},
   "outputs": [
    {
     "data": {
      "text/plain": [
       "108"
      ]
     },
     "execution_count": 66,
     "metadata": {},
     "output_type": "execute_result"
    }
   ],
   "source": [
    "27+27*3"
   ]
  },
  {
   "cell_type": "code",
   "execution_count": 59,
   "id": "dd67992c",
   "metadata": {},
   "outputs": [
    {
     "data": {
      "text/plain": [
       "27"
      ]
     },
     "execution_count": 59,
     "metadata": {},
     "output_type": "execute_result"
    }
   ],
   "source": [
    "1+6+12+8"
   ]
  },
  {
   "cell_type": "code",
   "execution_count": 28,
   "id": "e26ea8b3",
   "metadata": {},
   "outputs": [],
   "source": [
    "f = ampyl.F(qcis=qcis)"
   ]
  },
  {
   "cell_type": "code",
   "execution_count": null,
   "id": "61795291",
   "metadata": {},
   "outputs": [],
   "source": []
  },
  {
   "cell_type": "code",
   "execution_count": 29,
   "id": "3270be48",
   "metadata": {},
   "outputs": [],
   "source": [
    "ftmp = f.get_shell(E=5.0,\n",
    "    L=7.0,\n",
    "    m1=1.0,\n",
    "    m2=1.0,\n",
    "    m3=1.0,\n",
    "    cindex=0,\n",
    "    ell1=1,\n",
    "    ell2=1,\n",
    "    tbks_entry=qcis.tbks_list[0][0],\n",
    "    slice_index=1,\n",
    "    project=False,\n",
    "    irrep=None)"
   ]
  },
  {
   "cell_type": "code",
   "execution_count": 30,
   "id": "ee3e06ba",
   "metadata": {},
   "outputs": [],
   "source": [
    "F = f.get_value(E=5.0, L=7.0, project=False, irrep=None)"
   ]
  },
  {
   "cell_type": "code",
   "execution_count": 31,
   "id": "5cf088b8",
   "metadata": {},
   "outputs": [
    {
     "data": {
      "text/plain": [
       "(81, 81)"
      ]
     },
     "execution_count": 31,
     "metadata": {},
     "output_type": "execute_result"
    }
   ],
   "source": [
    "F.shape"
   ]
  },
  {
   "cell_type": "code",
   "execution_count": 32,
   "id": "9f9bc588",
   "metadata": {},
   "outputs": [
    {
     "data": {
      "text/plain": [
       "True"
      ]
     },
     "execution_count": 32,
     "metadata": {},
     "output_type": "execute_result"
    }
   ],
   "source": [
    "(np.abs(np.diag(np.diag(F))-F) < 1.0e-15).all()"
   ]
  },
  {
   "cell_type": "code",
   "execution_count": 33,
   "id": "230f16d3",
   "metadata": {},
   "outputs": [
    {
     "data": {
      "text/plain": [
       "(81, 5)"
      ]
     },
     "execution_count": 33,
     "metadata": {},
     "output_type": "execute_result"
    }
   ],
   "source": [
    "qcis.kellm_spaces[0][0].shape"
   ]
  },
  {
   "cell_type": "code",
   "execution_count": 34,
   "id": "21cb6278",
   "metadata": {},
   "outputs": [
    {
     "data": {
      "text/plain": [
       "array([0, 0, 0, 0, 0])"
      ]
     },
     "execution_count": 34,
     "metadata": {},
     "output_type": "execute_result"
    }
   ],
   "source": [
    "qcis.kellm_spaces[0][0][0]"
   ]
  },
  {
   "cell_type": "code",
   "execution_count": 35,
   "id": "f0e3e183",
   "metadata": {},
   "outputs": [],
   "source": [
    "F_direct = [[]]\n",
    "for kellm_entry_row in qcis.kellm_spaces[0][0]:\n",
    "    F_direct_row = []\n",
    "    for kellm_entry_col in qcis.kellm_spaces[0][0]:\n",
    "        nvec_row = kellm_entry_row[:3]\n",
    "        nvec_col = kellm_entry_col[:3]\n",
    "        if not (nvec_row == nvec_col).all():\n",
    "            Ftmp = 0.0\n",
    "        else:\n",
    "            ell1 = kellm_entry_row[3]\n",
    "            mazi1 = kellm_entry_row[4]\n",
    "            ell2 = kellm_entry_col[3]\n",
    "            mazi2 = kellm_entry_col[4]\n",
    "\n",
    "            Ftmp = ampyl.QCFunctions.getF_single_entry(E=5.0,\n",
    "                nP=np.array([0, 0, 0]),\n",
    "                L=7.0,\n",
    "                npspec=nvec_row,\n",
    "                m1=1.0,\n",
    "                m2=1.0,\n",
    "                mspec=1.0,\n",
    "                C1cut=3,\n",
    "                alphaKSS=1.0,\n",
    "                alpha=-1.0,\n",
    "                beta=0.0,\n",
    "                ell1=ell1,\n",
    "                mazi1=mazi1,\n",
    "                ell2=ell2,\n",
    "                mazi2=mazi2,\n",
    "                three_scheme='relativistic pole',\n",
    "                qc_organization='hermitian, real harmonics')\n",
    "        F_direct_row = F_direct_row+[Ftmp]\n",
    "    F_direct = F_direct+[F_direct_row]\n",
    "F_direct = np.array(F_direct[1:])"
   ]
  },
  {
   "cell_type": "code",
   "execution_count": 36,
   "id": "2aa671ba",
   "metadata": {},
   "outputs": [
    {
     "data": {
      "text/plain": [
       "True"
      ]
     },
     "execution_count": 36,
     "metadata": {},
     "output_type": "execute_result"
    }
   ],
   "source": [
    "(np.abs(F_direct - F) < 1.0e-10).all()"
   ]
  },
  {
   "cell_type": "code",
   "execution_count": 37,
   "id": "2680f0f2",
   "metadata": {},
   "outputs": [],
   "source": [
    "F = f.get_value(E=5.0, L=7.0, project=True, irrep=('A1PLUS', 0))"
   ]
  },
  {
   "cell_type": "code",
   "execution_count": 39,
   "id": "b27a34e3",
   "metadata": {},
   "outputs": [
    {
     "data": {
      "text/plain": [
       "array([[-6.00238468e-06,  0.00000000e+00,  0.00000000e+00,\n",
       "         0.00000000e+00,  0.00000000e+00,  0.00000000e+00,\n",
       "         0.00000000e+00],\n",
       "       [ 0.00000000e+00,  2.29386700e-06,  0.00000000e+00,\n",
       "         0.00000000e+00,  0.00000000e+00,  0.00000000e+00,\n",
       "         0.00000000e+00],\n",
       "       [ 0.00000000e+00,  0.00000000e+00,  2.77089697e-06,\n",
       "         0.00000000e+00,  0.00000000e+00,  0.00000000e+00,\n",
       "         0.00000000e+00],\n",
       "       [ 0.00000000e+00,  0.00000000e+00,  0.00000000e+00,\n",
       "         4.82889564e-06,  0.00000000e+00,  0.00000000e+00,\n",
       "         0.00000000e+00],\n",
       "       [ 0.00000000e+00,  0.00000000e+00,  0.00000000e+00,\n",
       "         0.00000000e+00, -1.38042503e-06,  0.00000000e+00,\n",
       "         0.00000000e+00],\n",
       "       [ 0.00000000e+00,  0.00000000e+00,  0.00000000e+00,\n",
       "         0.00000000e+00,  0.00000000e+00,  2.22294111e-06,\n",
       "         0.00000000e+00],\n",
       "       [ 0.00000000e+00,  0.00000000e+00,  0.00000000e+00,\n",
       "         0.00000000e+00,  0.00000000e+00,  0.00000000e+00,\n",
       "         4.63151213e-06]])"
      ]
     },
     "execution_count": 39,
     "metadata": {},
     "output_type": "execute_result"
    }
   ],
   "source": [
    "F.ma"
   ]
  },
  {
   "cell_type": "code",
   "execution_count": 38,
   "id": "adc96c8e",
   "metadata": {},
   "outputs": [
    {
     "data": {
      "text/plain": [
       "array([[1.]])"
      ]
     },
     "execution_count": 38,
     "metadata": {},
     "output_type": "execute_result"
    }
   ],
   "source": [
    "f.qcis.sc_proj_dicts_sliced[0][0]['A1PLUS', 0]"
   ]
  },
  {
   "cell_type": "code",
   "execution_count": 77,
   "id": "fe0d393b",
   "metadata": {},
   "outputs": [],
   "source": [
    "group = ampyl.Groups(ell_max=1)"
   ]
  },
  {
   "cell_type": "code",
   "execution_count": 83,
   "id": "2098401b",
   "metadata": {},
   "outputs": [],
   "source": [
    "nvec_array = qcis.tbks_list[0][0].nvec_arr"
   ]
  },
  {
   "cell_type": "code",
   "execution_count": 90,
   "id": "63df69bc",
   "metadata": {},
   "outputs": [],
   "source": [
    "import matplotlib.pyplot as plt"
   ]
  },
  {
   "cell_type": "code",
   "execution_count": 137,
   "id": "d6f98931",
   "metadata": {},
   "outputs": [
    {
     "data": {
      "image/png": "[encoded data removed]",
      "text/plain": [
       "<Figure size 432x288 with 1 Axes>"
      ]
     },
     "metadata": {
      "needs_background": "light"
     },
     "output_type": "display_data"
    },
    {
     "data": {
      "image/png": "[encoded data removed]",
      "text/plain": [
       "<Figure size 432x288 with 1 Axes>"
      ]
     },
     "metadata": {
      "needs_background": "light"
     },
     "output_type": "display_data"
    },
    {
     "data": {
      "image/png": "[encoded data removed]",
      "text/plain": [
       "<Figure size 432x288 with 1 Axes>"
      ]
     },
     "metadata": {
      "needs_background": "light"
     },
     "output_type": "display_data"
    },
    {
     "data": {
      "image/png": "[encoded data removed]",
      "text/plain": [
       "<Figure size 432x288 with 1 Axes>"
      ]
     },
     "metadata": {
      "needs_background": "light"
     },
     "output_type": "display_data"
    },
    {
     "data": {
      "image/png": "[encoded data removed]",
      "text/plain": [
       "<Figure size 432x288 with 1 Axes>"
      ]
     },
     "metadata": {
      "needs_background": "light"
     },
     "output_type": "display_data"
    },
    {
     "data": {
      "image/png": "[encoded data removed]",
      "text/plain": [
       "<Figure size 432x288 with 1 Axes>"
      ]
     },
     "metadata": {
      "needs_background": "light"
     },
     "output_type": "display_data"
    },
    {
     "data": {
      "image/png": "[encoded data removed]",
      "text/plain": [
       "<Figure size 432x288 with 1 Axes>"
      ]
     },
     "metadata": {
      "needs_background": "light"
     },
     "output_type": "display_data"
    },
    {
     "data": {
      "image/png": "[encoded data removed]",
      "text/plain": [
       "<Figure size 432x288 with 1 Axes>"
      ]
     },
     "metadata": {
      "needs_background": "light"
     },
     "output_type": "display_data"
    },
    {
     "data": {
      "image/png": "[encoded data removed]",
      "text/plain": [
       "<Figure size 432x288 with 1 Axes>"
      ]
     },
     "metadata": {
      "needs_background": "light"
     },
     "output_type": "display_data"
    },
    {
     "data": {
      "image/png": "[encoded data removed]",
      "text/plain": [
       "<Figure size 432x288 with 1 Axes>"
      ]
     },
     "metadata": {
      "needs_background": "light"
     },
     "output_type": "display_data"
    },
    {
     "data": {
      "image/png": "[encoded data removed]",
      "text/plain": [
       "<Figure size 432x288 with 1 Axes>"
      ]
     },
     "metadata": {
      "needs_background": "light"
     },
     "output_type": "display_data"
    },
    {
     "data": {
      "image/png": "[encoded data removed]",
      "text/plain": [
       "<Figure size 432x288 with 1 Axes>"
      ]
     },
     "metadata": {
      "needs_background": "light"
     },
     "output_type": "display_data"
    },
    {
     "data": {
      "image/png": "[encoded data removed]",
      "text/plain": [
       "<Figure size 432x288 with 1 Axes>"
      ]
     },
     "metadata": {
      "needs_background": "light"
     },
     "output_type": "display_data"
    },
    {
     "data": {
      "image/png": "[encoded data removed]",
      "text/plain": [
       "<Figure size 432x288 with 1 Axes>"
      ]
     },
     "metadata": {
      "needs_background": "light"
     },
     "output_type": "display_data"
    },
    {
     "data": {
      "image/png": "[encoded data removed]",
      "text/plain": [
       "<Figure size 432x288 with 1 Axes>"
      ]
     },
     "metadata": {
      "needs_background": "light"
     },
     "output_type": "display_data"
    },
    {
     "data": {
      "image/png": "[encoded data removed]",
      "text/plain": [
       "<Figure size 432x288 with 1 Axes>"
      ]
     },
     "metadata": {
      "needs_background": "light"
     },
     "output_type": "display_data"
    },
    {
     "data": {
      "image/png": "[encoded data removed]",
      "text/plain": [
       "<Figure size 432x288 with 1 Axes>"
      ]
     },
     "metadata": {
      "needs_background": "light"
     },
     "output_type": "display_data"
    },
    {
     "data": {
      "image/png": "[encoded data removed]",
      "text/plain": [
       "<Figure size 432x288 with 1 Axes>"
      ]
     },
     "metadata": {
      "needs_background": "light"
     },
     "output_type": "display_data"
    },
    {
     "data": {
      "image/png": "[encoded data removed]",
      "text/plain": [
       "<Figure size 432x288 with 1 Axes>"
      ]
     },
     "metadata": {
      "needs_background": "light"
     },
     "output_type": "display_data"
    },
    {
     "data": {
      "image/png": "[encoded data removed]",
      "text/plain": [
       "<Figure size 432x288 with 1 Axes>"
      ]
     },
     "metadata": {
      "needs_background": "light"
     },
     "output_type": "display_data"
    },
    {
     "data": {
      "image/png": "[encoded data removed]",
      "text/plain": [
       "<Figure size 432x288 with 1 Axes>"
      ]
     },
     "metadata": {
      "needs_background": "light"
     },
     "output_type": "display_data"
    },
    {
     "data": {
      "image/png": "[encoded data removed]",
      "text/plain": [
       "<Figure size 432x288 with 1 Axes>"
      ]
     },
     "metadata": {
      "needs_background": "light"
     },
     "output_type": "display_data"
    },
    {
     "data": {
      "image/png": "[encoded data removed]",
      "text/plain": [
       "<Figure size 432x288 with 1 Axes>"
      ]
     },
     "metadata": {
      "needs_background": "light"
     },
     "output_type": "display_data"
    },
    {
     "data": {
      "image/png": "[encoded data removed]",
      "text/plain": [
       "<Figure size 432x288 with 1 Axes>"
      ]
     },
     "metadata": {
      "needs_background": "light"
     },
     "output_type": "display_data"
    }
   ],
   "source": [
    "for g_elem in group.OhP[:24]:\n",
    "    plt.imshow(-g_elem,cmap='gray', vmin=-1, vmax=1) \n",
    "    plt.show()\n",
    "#plt.savefig('/Users/mhansen3/Desktop/g_elem.pdf')"
   ]
  },
  {
   "cell_type": "code",
   "execution_count": 167,
   "id": "d3f00a8e",
   "metadata": {},
   "outputs": [
    {
     "data": {
      "image/png": "[encoded data removed]",
      "text/plain": [
       "<Figure size 432x288 with 1 Axes>"
      ]
     },
     "metadata": {},
     "output_type": "display_data"
    },
    {
     "data": {
      "image/png": "[encoded data removed]",
      "text/plain": [
       "<Figure size 432x288 with 1 Axes>"
      ]
     },
     "metadata": {},
     "output_type": "display_data"
    }
   ],
   "source": [
    "entry_index = 4\n",
    "g_elem = group.OhP[entry_index]\n",
    "\n",
    "plt.imshow(-g_elem,cmap='seismic', vmin=-1, vmax=1) \n",
    "plt.tick_params(\n",
    "    axis='x',          # changes apply to the x-axis\n",
    "    which='both',      # both major and minor ticks are affected\n",
    "    bottom=False,      # ticks along the bottom edge are off\n",
    "    top=False,         # ticks along the top edge are off\n",
    "    labelbottom=False) # labels along the bottom edge are off\n",
    "plt.tick_params(\n",
    "    axis='y',          # changes apply to the x-axis\n",
    "    which='both',      # both major and minor ticks are affected\n",
    "    left=False,      # ticks along the bottom edge are off\n",
    "    right=False,         # ticks along the top edge are off\n",
    "    labelleft=False) # labels along the bottom edge are off\n",
    "plt.savefig('/Users/mhansen3/Desktop/small'+str(entry_index)+'.pdf')\n",
    "plt.show()\n",
    "\n",
    "x = -group.generate_induced_rep(\n",
    "    nvec_arr=nvec_array,\n",
    "    ellm_set=[[0, 0]],\n",
    "    g_elem=g_elem)\n",
    "y = -group.generate_induced_rep(\n",
    "    nvec_arr=nvec_array,\n",
    "    ellm_set=[[1, -1], [1, 0], [1, 1]],\n",
    "    g_elem=g_elem)\n",
    "z = ampyl.block_diag(y)\n",
    "\n",
    "plt.imshow(z,cmap='seismic', vmin=-1, vmax=1) \n",
    "plt.tick_params(\n",
    "    axis='x',          # changes apply to the x-axis\n",
    "    which='both',      # both major and minor ticks are affected\n",
    "    bottom=False,      # ticks along the bottom edge are off\n",
    "    top=False,         # ticks along the top edge are off\n",
    "    labelbottom=False) # labels along the bottom edge are off\n",
    "plt.tick_params(\n",
    "    axis='y',          # changes apply to the x-axis\n",
    "    which='both',      # both major and minor ticks are affected\n",
    "    left=False,      # ticks along the bottom edge are off\n",
    "    right=False,         # ticks along the top edge are off\n",
    "    labelleft=False) # labels along the bottom edge are off\n",
    "plt.savefig('/Users/mhansen3/Desktop/big'+str(entry_index)+'.pdf')"
   ]
  },
  {
   "cell_type": "code",
   "execution_count": 123,
   "id": "0b2eac8f",
   "metadata": {},
   "outputs": [],
   "source": [
    "plt.show()"
   ]
  },
  {
   "cell_type": "code",
   "execution_count": 171,
   "id": "0fdbfde0",
   "metadata": {},
   "outputs": [],
   "source": [
    "fc = ampyl.FlavorChannel(3, isospin_value=2)\n",
    "fcs = ampyl.FlavorChannelSpace(fc_list=[fc])"
   ]
  },
  {
   "cell_type": "code",
   "execution_count": 172,
   "id": "6045d2c9",
   "metadata": {},
   "outputs": [],
   "source": [
    "fvs = ampyl.FiniteVolumeSetup()\n",
    "tbis = ampyl.ThreeBodyInteractionScheme()"
   ]
  },
  {
   "cell_type": "code",
   "execution_count": 230,
   "id": "88e49007",
   "metadata": {},
   "outputs": [],
   "source": [
    "qcis = ampyl.QCIndexSpace(fcs=fcs, fvs=fvs, tbis=tbis, Emax=5.0, Lmax=6.0)"
   ]
  },
  {
   "cell_type": "code",
   "execution_count": 231,
   "id": "5860c3ec",
   "metadata": {},
   "outputs": [],
   "source": [
    "f = ampyl.F(qcis=qcis)\n",
    "g = ampyl.G(qcis=qcis)"
   ]
  },
  {
   "cell_type": "code",
   "execution_count": 232,
   "id": "e126b32c",
   "metadata": {},
   "outputs": [
    {
     "data": {
      "text/plain": [
       "array([[ 0.00000000e+00,  0.00000000e+00,  0.00000000e+00,\n",
       "         0.00000000e+00,  0.00000000e+00,  0.00000000e+00,\n",
       "         0.00000000e+00],\n",
       "       [-6.28022134e-06,  0.00000000e+00,  0.00000000e+00,\n",
       "         0.00000000e+00,  0.00000000e+00,  0.00000000e+00,\n",
       "         0.00000000e+00],\n",
       "       [ 0.00000000e+00, -7.16273679e-05,  0.00000000e+00,\n",
       "         0.00000000e+00,  0.00000000e+00,  0.00000000e+00,\n",
       "         0.00000000e+00],\n",
       "       [ 0.00000000e+00,  0.00000000e+00,  1.22604774e-05,\n",
       "         0.00000000e+00,  0.00000000e+00,  0.00000000e+00,\n",
       "         0.00000000e+00],\n",
       "       [ 0.00000000e+00,  0.00000000e+00,  0.00000000e+00,\n",
       "        -1.41958084e-04,  0.00000000e+00,  0.00000000e+00,\n",
       "         0.00000000e+00],\n",
       "       [ 0.00000000e+00,  0.00000000e+00,  0.00000000e+00,\n",
       "         0.00000000e+00, -1.96642422e-05,  0.00000000e+00,\n",
       "         0.00000000e+00],\n",
       "       [ 0.00000000e+00,  0.00000000e+00,  0.00000000e+00,\n",
       "         0.00000000e+00,  0.00000000e+00, -2.38566306e-05,\n",
       "         0.00000000e+00],\n",
       "       [ 0.00000000e+00,  0.00000000e+00,  0.00000000e+00,\n",
       "         0.00000000e+00,  0.00000000e+00,  0.00000000e+00,\n",
       "         1.26676175e-05]])"
      ]
     },
     "execution_count": 232,
     "metadata": {},
     "output_type": "execute_result"
    }
   ],
   "source": [
    "f.get_value(E=5.0, L=5.0, project=True, irrep=('A1PLUS', 0))"
   ]
  },
  {
   "cell_type": "code",
   "execution_count": 233,
   "id": "a04cb1bb",
   "metadata": {},
   "outputs": [
    {
     "data": {
      "text/plain": [
       "array([[-1.52775037e-05,  2.39566375e-05,  1.52905895e-05,\n",
       "         3.79808599e-06,  2.65130824e-05, -3.59307529e-06,\n",
       "         1.62013857e-06],\n",
       "       [ 2.39566375e-05, -1.16476397e-04, -5.83647949e-05,\n",
       "         1.53929545e-04, -2.49650635e-05,  2.02196022e-05,\n",
       "        -7.39545710e-06],\n",
       "       [ 1.52905895e-05, -5.83647949e-05, -5.52804716e-05,\n",
       "         1.51651935e-05, -1.80841669e-05, -1.75782631e-05,\n",
       "        -7.60657474e-06],\n",
       "       [ 3.79808599e-06,  1.53929545e-04,  1.51651935e-05,\n",
       "        -1.00000000e-06,  3.87086609e-06, -4.33530681e-05,\n",
       "        -2.32185825e-06],\n",
       "       [ 2.65130824e-05, -2.49650635e-05, -1.80841669e-05,\n",
       "         3.87086609e-06,  1.22505637e-05,  1.20422322e-05,\n",
       "         2.36238120e-06],\n",
       "       [-3.59307529e-06,  2.02196022e-05, -1.75782631e-05,\n",
       "        -4.33530681e-05,  1.20422322e-05,  1.66457333e-05,\n",
       "         2.31679462e-06],\n",
       "       [ 1.62013857e-06, -7.39545710e-06, -7.60657474e-06,\n",
       "        -2.32185825e-06,  2.36238120e-06,  2.31679462e-06,\n",
       "         1.45676448e-06]])"
      ]
     },
     "execution_count": 233,
     "metadata": {},
     "output_type": "execute_result"
    }
   ],
   "source": [
    "g.get_value(E=5.0, L=5.0, project=True, irrep=('A1PLUS', 0))"
   ]
  },
  {
   "cell_type": "code",
   "execution_count": 234,
   "id": "ebdf83f6",
   "metadata": {},
   "outputs": [],
   "source": [
    "k = ampyl.K(qcis=qcis)"
   ]
  },
  {
   "cell_type": "code",
   "execution_count": 235,
   "id": "29644a3d",
   "metadata": {},
   "outputs": [
    {
     "data": {
      "text/plain": [
       "array([[      0.        ,       0.        ,       0.        ,\n",
       "              0.        ,       0.        ,       0.        ,\n",
       "              0.        ],\n",
       "       [-188984.43730384,       0.        ,       0.        ,\n",
       "              0.        ,       0.        ,       0.        ,\n",
       "              0.        ],\n",
       "       [      0.        ,  -48794.88637138,       0.        ,\n",
       "              0.        ,       0.        ,       0.        ,\n",
       "              0.        ],\n",
       "       [      0.        ,       0.        ,  -49587.98195822,\n",
       "              0.        ,       0.        ,       0.        ,\n",
       "              0.        ],\n",
       "       [      0.        ,       0.        ,       0.        ,\n",
       "        -100530.96491487,       0.        ,       0.        ,\n",
       "              0.        ],\n",
       "       [      0.        ,       0.        ,       0.        ,\n",
       "              0.        , -127255.62441248,       0.        ,\n",
       "              0.        ],\n",
       "       [      0.        ,       0.        ,       0.        ,\n",
       "              0.        ,       0.        , -121368.61217868,\n",
       "              0.        ],\n",
       "       [      0.        ,       0.        ,       0.        ,\n",
       "              0.        ,       0.        ,       0.        ,\n",
       "        -125061.49213758]])"
      ]
     },
     "execution_count": 235,
     "metadata": {},
     "output_type": "execute_result"
    }
   ],
   "source": [
    "k.get_value(E=5.0, L=5.0, pcotdelta_parameter_lists=[[2], [2]], project=True, irrep=('A1PLUS', 0))"
   ]
  },
  {
   "cell_type": "code",
   "execution_count": 236,
   "id": "815b3d7f",
   "metadata": {},
   "outputs": [
    {
     "data": {
      "text/plain": [
       "[1]"
      ]
     },
     "execution_count": 236,
     "metadata": {},
     "output_type": "execute_result"
    }
   ],
   "source": [
    "qcis.fcs.sc_list[0].n_params_set"
   ]
  },
  {
   "cell_type": "code",
   "execution_count": 241,
   "id": "e0f999a0",
   "metadata": {},
   "outputs": [],
   "source": [
    "qc = ampyl.QC(qcis=qcis)"
   ]
  },
  {
   "cell_type": "code",
   "execution_count": 251,
   "id": "5c745152",
   "metadata": {},
   "outputs": [],
   "source": [
    "qcvals = []\n",
    "Evals = np.arange(3.1, 5.0, 0.005)\n",
    "for E in Evals:\n",
    "    qctmp = qc.get_value(E=E, L=6.0, k_params=[[[0.1], [0.1]], 0.0], project=True,\n",
    "                  irrep=('A1PLUS', 0), version='kdf_zero_1+')\n",
    "    qcvals = qcvals+[qctmp]\n",
    "qcvals=np.array(qcvals)"
   ]
  },
  {
   "cell_type": "code",
   "execution_count": 252,
   "id": "30684bad",
   "metadata": {},
   "outputs": [
    {
     "data": {
      "text/plain": [
       "[<matplotlib.lines.Line2D at 0x7fabba9fc100>]"
      ]
     },
     "execution_count": 252,
     "metadata": {},
     "output_type": "execute_result"
    },
    {
     "data": {
      "image/png": "[encoded data removed]",
      "text/plain": [
       "<Figure size 432x288 with 1 Axes>"
      ]
     },
     "metadata": {
      "needs_background": "light"
     },
     "output_type": "display_data"
    }
   ],
   "source": [
    "plt.plot(Evals, qcvals)\n",
    "plt.ylim(-5, 5)\n",
    "plt.plot(2*[1.0+2.0*np.sqrt(1.0+(2.0*np.pi/6)**2)], [-20, 20])\n",
    "plt.plot([3.1, 5.0], [0.0, 0.0])"
   ]
  },
  {
   "cell_type": "code",
   "execution_count": null,
   "id": "741b1fbe",
   "metadata": {},
   "outputs": [],
   "source": []
  }
 ],
 "metadata": {
  "kernelspec": {
   "display_name": "Python 3 (ipykernel)",
   "language": "python",
   "name": "python3"
  },
  "language_info": {
   "codemirror_mode": {
    "name": "ipython",
    "version": 3
   },
   "file_extension": ".py",
   "mimetype": "text/x-python",
   "name": "python",
   "nbconvert_exporter": "python",
   "pygments_lexer": "ipython3",
   "version": "3.9.7"
  }
 },
 "nbformat": 4,
 "nbformat_minor": 5
}
