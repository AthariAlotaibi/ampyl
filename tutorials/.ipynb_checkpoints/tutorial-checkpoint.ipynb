{
 "cells": [
  {
   "cell_type": "code",
   "execution_count": 1,
   "id": "8acc0ae6",
   "metadata": {},
   "outputs": [],
   "source": [
    "%load_ext autoreload\n",
    "%autoreload 2"
   ]
  },
  {
   "cell_type": "code",
   "execution_count": 2,
   "id": "bab093ea",
   "metadata": {},
   "outputs": [],
   "source": [
    "import os\n",
    "import sys\n",
    "import numpy as np\n",
    "sys.path.append(os.path.abspath('.')+'/../ampyl')\n",
    "import ampyl"
   ]
  },
  {
   "cell_type": "code",
   "execution_count": 3,
   "id": "a5e8ac1c",
   "metadata": {},
   "outputs": [
    {
     "name": "stdout",
     "output_type": "stream",
     "text": [
      "SpectatorChannel with the following details:\n",
      "    3 particles,\n",
      "    masses: [1.0, 1.0, 1.0],\n",
      "    spins: [0, 0, 0],\n",
      "    explicit_flavor_channel: False,\n",
      "    explicit_flavors: None,\n",
      "    isospin_channel: True,\n",
      "    isospin_value: 2,\n",
      "    isospin_flavor: 0,\n",
      "    indexing: None,\n",
      "    sub_isospin: 1,\n",
      "    ellset: [1],\n",
      "    p_cot_deltas: [<function QCFunctions.pcotdelta_scattering_length at 0x7fb8e09f6700>],\n",
      "    n_params_set: [1],\n",
      "SpectatorChannel with the following details:\n",
      "    3 particles,\n",
      "    masses: [1.0, 1.0, 1.0],\n",
      "    spins: [0, 0, 0],\n",
      "    explicit_flavor_channel: False,\n",
      "    explicit_flavors: None,\n",
      "    isospin_channel: True,\n",
      "    isospin_value: 2,\n",
      "    isospin_flavor: 0,\n",
      "    indexing: None,\n",
      "    sub_isospin: 2,\n",
      "    ellset: [0],\n",
      "    p_cot_deltas: [<function QCFunctions.pcotdelta_scattering_length at 0x7fb8e09f6700>],\n",
      "    n_params_set: [1],\n"
     ]
    }
   ],
   "source": [
    "fc = ampyl.FlavorChannel(3, isospin_value=2)\n",
    "fcs = ampyl.FlavorChannelSpace(fc_list=[fc])\n",
    "for sc in fcs.sc_list:\n",
    "    print(sc)"
   ]
  },
  {
   "cell_type": "code",
   "execution_count": 4,
   "id": "72d53053",
   "metadata": {},
   "outputs": [],
   "source": [
    "fc = ampyl.FlavorChannel(3)"
   ]
  },
  {
   "cell_type": "code",
   "execution_count": 5,
   "id": "6a8a7624",
   "metadata": {},
   "outputs": [
    {
     "name": "stdout",
     "output_type": "stream",
     "text": [
      "FlavorChannel with the following details:\n",
      "    3 particles,\n",
      "    masses: [1.0, 1.0, 1.0],\n",
      "    spins: [0, 0, 0],\n",
      "    explicit_flavor_channel: True,\n",
      "    explicit_flavors: [1, 1, 1],\n",
      "    isospin_channel: False,\n",
      "    isospin_value: None,\n",
      "    isospin_flavor: None.\n"
     ]
    }
   ],
   "source": [
    "print(fc)"
   ]
  },
  {
   "cell_type": "code",
   "execution_count": 6,
   "id": "638660c8",
   "metadata": {},
   "outputs": [
    {
     "name": "stderr",
     "output_type": "stream",
     "text": [
      "/var/folders/l_/rgrfsf1d24l773c9tb4zrkb80000gn/T/ipykernel_70294/3138728307.py:1: UserWarning: \n",
      "\u001b[93misospin_channel is being set to True but explicit_flavor_channel is True. Setting it to False.\u001b[0m\n",
      "  fc.isospin_channel = True\n",
      "/Users/mhansen3/Code/ampyl/tutorials/../ampyl/ampyl.py:251: UserWarning: \n",
      "\u001b[93mexplicit_flavor_channel is being set to False but explicit_flavors is not None. Setting it to None.\u001b[0m\n",
      "  self.explicit_flavor_channel = False\n",
      "/var/folders/l_/rgrfsf1d24l773c9tb4zrkb80000gn/T/ipykernel_70294/3138728307.py:1: UserWarning: \n",
      "\u001b[93misospin_channel is being set to True but isospin_value is None. Setting it to default.\u001b[0m\n",
      "  fc.isospin_channel = True\n",
      "/var/folders/l_/rgrfsf1d24l773c9tb4zrkb80000gn/T/ipykernel_70294/3138728307.py:1: UserWarning: \n",
      "\u001b[93misospin_channel is being set to True but isospin_flavor is None. Setting it to default.\u001b[0m\n",
      "  fc.isospin_channel = True\n"
     ]
    }
   ],
   "source": [
    "fc.isospin_channel = True"
   ]
  },
  {
   "cell_type": "code",
   "execution_count": 7,
   "id": "b980152c",
   "metadata": {},
   "outputs": [
    {
     "name": "stdout",
     "output_type": "stream",
     "text": [
      "FlavorChannel with the following details:\n",
      "    3 particles,\n",
      "    masses: [1.0, 1.0, 1.0],\n",
      "    spins: [0, 0, 0],\n",
      "    explicit_flavor_channel: False,\n",
      "    explicit_flavors: None,\n",
      "    isospin_channel: True,\n",
      "    isospin_value: 3,\n",
      "    isospin_flavor: 0.\n"
     ]
    }
   ],
   "source": [
    "print(fc)"
   ]
  },
  {
   "cell_type": "code",
   "execution_count": 8,
   "id": "36a418f2",
   "metadata": {},
   "outputs": [
    {
     "name": "stderr",
     "output_type": "stream",
     "text": [
      "/Users/mhansen3/Code/ampyl/tutorials/../ampyl/ampyl.py:216: UserWarning: \n",
      "\u001b[93mlength of explicit_flavors must equal n_particles. Last entry will be duplicated.\u001b[0m\n",
      "  self._explicit_flavors = self._generic_setter(explicit_flavors,\n",
      "/var/folders/l_/rgrfsf1d24l773c9tb4zrkb80000gn/T/ipykernel_70294/408721384.py:1: UserWarning: \n",
      "\u001b[93mexplicit_flavors is being set but explicit_flavor_channel is False. Setting it to True.\u001b[0m\n",
      "  fc.explicit_flavors = 2*[1]\n",
      "/Users/mhansen3/Code/ampyl/tutorials/../ampyl/ampyl.py:226: UserWarning: \n",
      "\u001b[93mexplicit_flavor_channel is being set to True but isospin_channel is True. Setting it to False.\u001b[0m\n",
      "  self.explicit_flavor_channel = True\n",
      "/Users/mhansen3/Code/ampyl/tutorials/../ampyl/ampyl.py:190: UserWarning: \n",
      "\u001b[93misospin_channel is being set to False but isospin_value is not None. Setting it to None.\u001b[0m\n",
      "  self.isospin_channel = False\n",
      "/Users/mhansen3/Code/ampyl/tutorials/../ampyl/ampyl.py:190: UserWarning: \n",
      "\u001b[93misospin_channel is being set to False but isospin_flavor is not None. Setting it to None.\u001b[0m\n",
      "  self.isospin_channel = False\n"
     ]
    }
   ],
   "source": [
    "fc.explicit_flavors = 2*[1]"
   ]
  },
  {
   "cell_type": "code",
   "execution_count": 9,
   "id": "d2784ab5",
   "metadata": {},
   "outputs": [
    {
     "name": "stdout",
     "output_type": "stream",
     "text": [
      "FlavorChannel with the following details:\n",
      "    3 particles,\n",
      "    masses: [1.0, 1.0, 1.0],\n",
      "    spins: [0, 0, 0],\n",
      "    explicit_flavor_channel: True,\n",
      "    explicit_flavors: [1, 1, 1],\n",
      "    isospin_channel: False,\n",
      "    isospin_value: None,\n",
      "    isospin_flavor: None.\n"
     ]
    }
   ],
   "source": [
    "print(fc)"
   ]
  },
  {
   "cell_type": "code",
   "execution_count": 10,
   "id": "bafd6983",
   "metadata": {},
   "outputs": [],
   "source": [
    "fc.isospin_value = None"
   ]
  },
  {
   "cell_type": "code",
   "execution_count": 11,
   "id": "b736dc49",
   "metadata": {},
   "outputs": [
    {
     "name": "stdout",
     "output_type": "stream",
     "text": [
      "FlavorChannel with the following details:\n",
      "    3 particles,\n",
      "    masses: [1.0, 1.0, 1.0],\n",
      "    spins: [0, 0, 0],\n",
      "    explicit_flavor_channel: True,\n",
      "    explicit_flavors: [1, 1, 1],\n",
      "    isospin_channel: False,\n",
      "    isospin_value: None,\n",
      "    isospin_flavor: None.\n"
     ]
    }
   ],
   "source": [
    "print(fc)"
   ]
  },
  {
   "cell_type": "code",
   "execution_count": 12,
   "id": "95bd3984",
   "metadata": {},
   "outputs": [
    {
     "name": "stderr",
     "output_type": "stream",
     "text": [
      "/var/folders/l_/rgrfsf1d24l773c9tb4zrkb80000gn/T/ipykernel_70294/548917055.py:1: UserWarning: \n",
      "\u001b[93misospin_value is being set but isospin_channel is False. Setting it to True.\u001b[0m\n",
      "  fc.isospin_value = 2\n",
      "/Users/mhansen3/Code/ampyl/tutorials/../ampyl/ampyl.py:296: UserWarning: \n",
      "\u001b[93misospin_channel is being set to True but explicit_flavor_channel is True. Setting it to False.\u001b[0m\n",
      "  self.isospin_channel = True\n",
      "/Users/mhansen3/Code/ampyl/tutorials/../ampyl/ampyl.py:251: UserWarning: \n",
      "\u001b[93mexplicit_flavor_channel is being set to False but explicit_flavors is not None. Setting it to None.\u001b[0m\n",
      "  self.explicit_flavor_channel = False\n",
      "/Users/mhansen3/Code/ampyl/tutorials/../ampyl/ampyl.py:296: UserWarning: \n",
      "\u001b[93misospin_channel is being set to True but isospin_flavor is None. Setting it to default.\u001b[0m\n",
      "  self.isospin_channel = True\n"
     ]
    }
   ],
   "source": [
    "fc.isospin_value = 2"
   ]
  },
  {
   "cell_type": "code",
   "execution_count": 13,
   "id": "bb4b57cd",
   "metadata": {},
   "outputs": [
    {
     "name": "stdout",
     "output_type": "stream",
     "text": [
      "FlavorChannel with the following details:\n",
      "    3 particles,\n",
      "    masses: [1.0, 1.0, 1.0],\n",
      "    spins: [0, 0, 0],\n",
      "    explicit_flavor_channel: False,\n",
      "    explicit_flavors: None,\n",
      "    isospin_channel: True,\n",
      "    isospin_value: 2,\n",
      "    isospin_flavor: 0.\n"
     ]
    }
   ],
   "source": [
    "print(fc)"
   ]
  },
  {
   "cell_type": "code",
   "execution_count": 14,
   "id": "aba8a7c8",
   "metadata": {},
   "outputs": [
    {
     "name": "stderr",
     "output_type": "stream",
     "text": [
      "/Users/mhansen3/Code/ampyl/tutorials/../ampyl/ampyl.py:337: UserWarning: \n",
      "\u001b[93mlength of masses must equal n_particles. Last entry will be duplicated.\u001b[0m\n",
      "  self._masses = self._generic_setter(masses, 'masses', float, 'float')\n",
      "/var/folders/l_/rgrfsf1d24l773c9tb4zrkb80000gn/T/ipykernel_70294/2207338816.py:1: UserWarning: \n",
      "\u001b[93mmasses must be equal for isospin channel. Setting to first value.\u001b[0m\n",
      "  fc.masses = [2.0, 3.0]\n"
     ]
    }
   ],
   "source": [
    "fc.masses = [2.0, 3.0]"
   ]
  },
  {
   "cell_type": "code",
   "execution_count": 15,
   "id": "cdafc8a5",
   "metadata": {},
   "outputs": [
    {
     "name": "stdout",
     "output_type": "stream",
     "text": [
      "FlavorChannel with the following details:\n",
      "    3 particles,\n",
      "    masses: [2.0, 2.0, 2.0],\n",
      "    spins: [0, 0, 0],\n",
      "    explicit_flavor_channel: False,\n",
      "    explicit_flavors: None,\n",
      "    isospin_channel: True,\n",
      "    isospin_value: 2,\n",
      "    isospin_flavor: 0.\n"
     ]
    }
   ],
   "source": [
    "print(fc)"
   ]
  },
  {
   "cell_type": "code",
   "execution_count": 16,
   "id": "ddfe3bf5",
   "metadata": {},
   "outputs": [
    {
     "name": "stderr",
     "output_type": "stream",
     "text": [
      "/Users/mhansen3/Code/ampyl/tutorials/../ampyl/ampyl.py:337: UserWarning: \n",
      "\u001b[93mlength of masses must equal n_particles. Last entry will be duplicated.\u001b[0m\n",
      "  self._masses = self._generic_setter(masses, 'masses', float, 'float')\n",
      "/Users/mhansen3/Code/ampyl/tutorials/../ampyl/ampyl.py:355: UserWarning: \n",
      "\u001b[93mlength of spins must equal n_particles. Last entry will be duplicated.\u001b[0m\n",
      "  self._spins = self._generic_setter(spins, 'spins', int, 'int')\n"
     ]
    }
   ],
   "source": [
    "fc.n_particles = 4"
   ]
  },
  {
   "cell_type": "code",
   "execution_count": 17,
   "id": "3b5448ae",
   "metadata": {},
   "outputs": [
    {
     "name": "stdout",
     "output_type": "stream",
     "text": [
      "FlavorChannel with the following details:\n",
      "    4 particles,\n",
      "    masses: [2.0, 2.0, 2.0, 2.0],\n",
      "    spins: [0, 0, 0, 0],\n",
      "    explicit_flavor_channel: False,\n",
      "    explicit_flavors: None,\n",
      "    isospin_channel: True,\n",
      "    isospin_value: 2,\n",
      "    isospin_flavor: 0.\n"
     ]
    }
   ],
   "source": [
    "print(fc)"
   ]
  },
  {
   "cell_type": "code",
   "execution_count": 18,
   "id": "d4b1670b",
   "metadata": {},
   "outputs": [
    {
     "name": "stderr",
     "output_type": "stream",
     "text": [
      "/Users/mhansen3/Code/ampyl/tutorials/../ampyl/ampyl.py:216: UserWarning: \n",
      "\u001b[93mlength of explicit_flavors must equal n_particles. Last entry will be duplicated.\u001b[0m\n",
      "  self._explicit_flavors = self._generic_setter(explicit_flavors,\n",
      "/var/folders/l_/rgrfsf1d24l773c9tb4zrkb80000gn/T/ipykernel_70294/1392545939.py:1: UserWarning: \n",
      "\u001b[93mexplicit_flavors is being set but explicit_flavor_channel is False. Setting it to True.\u001b[0m\n",
      "  fc.explicit_flavors = [2]\n",
      "/Users/mhansen3/Code/ampyl/tutorials/../ampyl/ampyl.py:226: UserWarning: \n",
      "\u001b[93mexplicit_flavor_channel is being set to True but isospin_channel is True. Setting it to False.\u001b[0m\n",
      "  self.explicit_flavor_channel = True\n",
      "/Users/mhansen3/Code/ampyl/tutorials/../ampyl/ampyl.py:190: UserWarning: \n",
      "\u001b[93misospin_channel is being set to False but isospin_value is not None. Setting it to None.\u001b[0m\n",
      "  self.isospin_channel = False\n",
      "/Users/mhansen3/Code/ampyl/tutorials/../ampyl/ampyl.py:190: UserWarning: \n",
      "\u001b[93misospin_channel is being set to False but isospin_flavor is not None. Setting it to None.\u001b[0m\n",
      "  self.isospin_channel = False\n"
     ]
    }
   ],
   "source": [
    "fc.explicit_flavors = [2]"
   ]
  },
  {
   "cell_type": "code",
   "execution_count": 19,
   "id": "867de6a9",
   "metadata": {},
   "outputs": [
    {
     "name": "stdout",
     "output_type": "stream",
     "text": [
      "FlavorChannel with the following details:\n",
      "    4 particles,\n",
      "    masses: [2.0, 2.0, 2.0, 2.0],\n",
      "    spins: [0, 0, 0, 0],\n",
      "    explicit_flavor_channel: True,\n",
      "    explicit_flavors: [2, 2, 2, 2],\n",
      "    isospin_channel: False,\n",
      "    isospin_value: None,\n",
      "    isospin_flavor: None.\n"
     ]
    }
   ],
   "source": [
    "print(fc)"
   ]
  },
  {
   "cell_type": "code",
   "execution_count": 20,
   "id": "bf6bc90c",
   "metadata": {},
   "outputs": [
    {
     "name": "stderr",
     "output_type": "stream",
     "text": [
      "/var/folders/l_/rgrfsf1d24l773c9tb4zrkb80000gn/T/ipykernel_70294/3322339439.py:1: UserWarning: \n",
      "\u001b[93misospin_value is being set but isospin_channel is False. Setting it to True.\u001b[0m\n",
      "  fc.isospin_value = 4\n",
      "/Users/mhansen3/Code/ampyl/tutorials/../ampyl/ampyl.py:296: UserWarning: \n",
      "\u001b[93misospin_channel is being set to True but explicit_flavor_channel is True. Setting it to False.\u001b[0m\n",
      "  self.isospin_channel = True\n",
      "/Users/mhansen3/Code/ampyl/tutorials/../ampyl/ampyl.py:251: UserWarning: \n",
      "\u001b[93mexplicit_flavor_channel is being set to False but explicit_flavors is not None. Setting it to None.\u001b[0m\n",
      "  self.explicit_flavor_channel = False\n",
      "/Users/mhansen3/Code/ampyl/tutorials/../ampyl/ampyl.py:296: UserWarning: \n",
      "\u001b[93misospin_channel is being set to True but isospin_flavor is None. Setting it to default.\u001b[0m\n",
      "  self.isospin_channel = True\n"
     ]
    }
   ],
   "source": [
    "fc.isospin_value = 4"
   ]
  },
  {
   "cell_type": "code",
   "execution_count": 21,
   "id": "82ac48e2",
   "metadata": {},
   "outputs": [
    {
     "name": "stdout",
     "output_type": "stream",
     "text": [
      "FlavorChannel with the following details:\n",
      "    4 particles,\n",
      "    masses: [2.0, 2.0, 2.0, 2.0],\n",
      "    spins: [0, 0, 0, 0],\n",
      "    explicit_flavor_channel: False,\n",
      "    explicit_flavors: None,\n",
      "    isospin_channel: True,\n",
      "    isospin_value: 4,\n",
      "    isospin_flavor: 0.\n"
     ]
    }
   ],
   "source": [
    "print(fc)"
   ]
  },
  {
   "cell_type": "code",
   "execution_count": 22,
   "id": "c95410fb",
   "metadata": {},
   "outputs": [
    {
     "name": "stderr",
     "output_type": "stream",
     "text": [
      "/Users/mhansen3/Code/ampyl/tutorials/../ampyl/ampyl.py:337: UserWarning: \n",
      "\u001b[93mlength of masses must equal n_particles. Last entries will be dropped.\u001b[0m\n",
      "  self._masses = self._generic_setter(masses, 'masses', float, 'float')\n",
      "/Users/mhansen3/Code/ampyl/tutorials/../ampyl/ampyl.py:355: UserWarning: \n",
      "\u001b[93mlength of spins must equal n_particles. Last entries will be dropped.\u001b[0m\n",
      "  self._spins = self._generic_setter(spins, 'spins', int, 'int')\n",
      "/var/folders/l_/rgrfsf1d24l773c9tb4zrkb80000gn/T/ipykernel_70294/2659758715.py:1: UserWarning: \n",
      "\u001b[93misospin_value should not exceed n_particles. Setting isospin_value to equal n_particles.\u001b[0m\n",
      "  fc.n_particles = 3\n"
     ]
    }
   ],
   "source": [
    "fc.n_particles = 3"
   ]
  },
  {
   "cell_type": "code",
   "execution_count": 23,
   "id": "42d35a6c",
   "metadata": {},
   "outputs": [
    {
     "name": "stdout",
     "output_type": "stream",
     "text": [
      "FlavorChannel with the following details:\n",
      "    3 particles,\n",
      "    masses: [2.0, 2.0, 2.0],\n",
      "    spins: [0, 0, 0],\n",
      "    explicit_flavor_channel: False,\n",
      "    explicit_flavors: None,\n",
      "    isospin_channel: True,\n",
      "    isospin_value: 3,\n",
      "    isospin_flavor: 0.\n"
     ]
    }
   ],
   "source": [
    "print(fc)"
   ]
  },
  {
   "cell_type": "code",
   "execution_count": 24,
   "id": "709a03f4",
   "metadata": {},
   "outputs": [
    {
     "name": "stderr",
     "output_type": "stream",
     "text": [
      "/Users/mhansen3/Code/ampyl/tutorials/../ampyl/ampyl.py:337: UserWarning: \n",
      "\u001b[93mlength of masses must equal n_particles. Last entry will be duplicated.\u001b[0m\n",
      "  self._masses = self._generic_setter(masses, 'masses', float, 'float')\n",
      "/Users/mhansen3/Code/ampyl/tutorials/../ampyl/ampyl.py:355: UserWarning: \n",
      "\u001b[93mlength of spins must equal n_particles. Last entry will be duplicated.\u001b[0m\n",
      "  self._spins = self._generic_setter(spins, 'spins', int, 'int')\n"
     ]
    }
   ],
   "source": [
    "fc.n_particles = 4"
   ]
  },
  {
   "cell_type": "code",
   "execution_count": 25,
   "id": "01ca601c",
   "metadata": {},
   "outputs": [
    {
     "name": "stdout",
     "output_type": "stream",
     "text": [
      "FlavorChannel with the following details:\n",
      "    4 particles,\n",
      "    masses: [2.0, 2.0, 2.0, 2.0],\n",
      "    spins: [0, 0, 0, 0],\n",
      "    explicit_flavor_channel: False,\n",
      "    explicit_flavors: None,\n",
      "    isospin_channel: True,\n",
      "    isospin_value: 3,\n",
      "    isospin_flavor: 0.\n"
     ]
    }
   ],
   "source": [
    "print(fc)"
   ]
  },
  {
   "cell_type": "code",
   "execution_count": 26,
   "id": "5ce9b5ca",
   "metadata": {},
   "outputs": [
    {
     "name": "stderr",
     "output_type": "stream",
     "text": [
      "/Users/mhansen3/Code/ampyl/tutorials/../ampyl/ampyl.py:337: UserWarning: \n",
      "\u001b[93mlength of masses must equal n_particles. Last entries will be dropped.\u001b[0m\n",
      "  self._masses = self._generic_setter(masses, 'masses', float, 'float')\n",
      "/Users/mhansen3/Code/ampyl/tutorials/../ampyl/ampyl.py:355: UserWarning: \n",
      "\u001b[93mlength of spins must equal n_particles. Last entries will be dropped.\u001b[0m\n",
      "  self._spins = self._generic_setter(spins, 'spins', int, 'int')\n",
      "/var/folders/l_/rgrfsf1d24l773c9tb4zrkb80000gn/T/ipykernel_70294/856370351.py:1: UserWarning: \n",
      "\u001b[93misospin_value should not exceed n_particles. Setting isospin_value to equal n_particles.\u001b[0m\n",
      "  fc.n_particles = 2\n"
     ]
    }
   ],
   "source": [
    "fc.n_particles = 2"
   ]
  },
  {
   "cell_type": "code",
   "execution_count": 27,
   "id": "dfd48eea",
   "metadata": {},
   "outputs": [
    {
     "name": "stderr",
     "output_type": "stream",
     "text": [
      "/var/folders/l_/rgrfsf1d24l773c9tb4zrkb80000gn/T/ipykernel_70294/897158700.py:1: UserWarning: \n",
      "\u001b[93misospin_channel is being set to False but isospin_value is not None. Setting it to None.\u001b[0m\n",
      "  fc.isospin_channel = False\n",
      "/var/folders/l_/rgrfsf1d24l773c9tb4zrkb80000gn/T/ipykernel_70294/897158700.py:1: UserWarning: \n",
      "\u001b[93misospin_channel is being set to False but isospin_flavor is not None. Setting it to None.\u001b[0m\n",
      "  fc.isospin_channel = False\n"
     ]
    }
   ],
   "source": [
    "fc.isospin_channel = False"
   ]
  },
  {
   "cell_type": "code",
   "execution_count": 28,
   "id": "c3e268b2",
   "metadata": {},
   "outputs": [
    {
     "name": "stdout",
     "output_type": "stream",
     "text": [
      "FlavorChannel with the following details:\n",
      "    2 particles,\n",
      "    masses: [2.0, 2.0],\n",
      "    spins: [0, 0],\n",
      "    explicit_flavor_channel: False,\n",
      "    explicit_flavors: None,\n",
      "    isospin_channel: False,\n",
      "    isospin_value: None,\n",
      "    isospin_flavor: None.\n"
     ]
    }
   ],
   "source": [
    "print(fc)"
   ]
  },
  {
   "cell_type": "code",
   "execution_count": 29,
   "id": "4187e47b",
   "metadata": {},
   "outputs": [
    {
     "name": "stderr",
     "output_type": "stream",
     "text": [
      "/Users/mhansen3/Code/ampyl/tutorials/../ampyl/ampyl.py:337: UserWarning: \n",
      "\u001b[93mlength of masses must equal n_particles. Last entry will be duplicated.\u001b[0m\n",
      "  self._masses = self._generic_setter(masses, 'masses', float, 'float')\n",
      "/Users/mhansen3/Code/ampyl/tutorials/../ampyl/ampyl.py:355: UserWarning: \n",
      "\u001b[93mlength of spins must equal n_particles. Last entry will be duplicated.\u001b[0m\n",
      "  self._spins = self._generic_setter(spins, 'spins', int, 'int')\n"
     ]
    }
   ],
   "source": [
    "fc.n_particles = 10"
   ]
  },
  {
   "cell_type": "code",
   "execution_count": 30,
   "id": "0b2c6f87",
   "metadata": {},
   "outputs": [
    {
     "name": "stdout",
     "output_type": "stream",
     "text": [
      "FlavorChannel with the following details:\n",
      "    10 particles,\n",
      "    masses: [2.0, 2.0, 2.0, 2.0, 2.0, 2.0, 2.0, 2.0, 2.0, 2.0],\n",
      "    spins: [0, 0, 0, 0, 0, 0, 0, 0, 0, 0],\n",
      "    explicit_flavor_channel: False,\n",
      "    explicit_flavors: None,\n",
      "    isospin_channel: False,\n",
      "    isospin_value: None,\n",
      "    isospin_flavor: None.\n"
     ]
    }
   ],
   "source": [
    "print(fc)"
   ]
  },
  {
   "cell_type": "code",
   "execution_count": 31,
   "id": "071caca2",
   "metadata": {},
   "outputs": [
    {
     "name": "stderr",
     "output_type": "stream",
     "text": [
      "/Users/mhansen3/Code/ampyl/tutorials/../ampyl/ampyl.py:216: UserWarning: \n",
      "\u001b[93mlength of explicit_flavors must equal n_particles. Last entry will be duplicated.\u001b[0m\n",
      "  self._explicit_flavors = self._generic_setter(explicit_flavors,\n",
      "/var/folders/l_/rgrfsf1d24l773c9tb4zrkb80000gn/T/ipykernel_70294/3566822439.py:1: UserWarning: \n",
      "\u001b[93mexplicit_flavors is being set but explicit_flavor_channel is False. Setting it to True.\u001b[0m\n",
      "  fc.explicit_flavors = [1]\n"
     ]
    }
   ],
   "source": [
    "fc.explicit_flavors = [1]"
   ]
  },
  {
   "cell_type": "code",
   "execution_count": 32,
   "id": "9e6f506b",
   "metadata": {
    "scrolled": true
   },
   "outputs": [
    {
     "name": "stdout",
     "output_type": "stream",
     "text": [
      "FlavorChannel with the following details:\n",
      "    10 particles,\n",
      "    masses: [2.0, 2.0, 2.0, 2.0, 2.0, 2.0, 2.0, 2.0, 2.0, 2.0],\n",
      "    spins: [0, 0, 0, 0, 0, 0, 0, 0, 0, 0],\n",
      "    explicit_flavor_channel: True,\n",
      "    explicit_flavors: [1, 1, 1, 1, 1, 1, 1, 1, 1, 1],\n",
      "    isospin_channel: False,\n",
      "    isospin_value: None,\n",
      "    isospin_flavor: None.\n"
     ]
    }
   ],
   "source": [
    "print(fc)"
   ]
  },
  {
   "cell_type": "code",
   "execution_count": 33,
   "id": "5124edf8",
   "metadata": {},
   "outputs": [],
   "source": [
    "fc1 = ampyl.FlavorChannel(3, masses=[1.0]*3, isospin_value=1, isospin_flavor=0)\n",
    "fc2 = ampyl.FlavorChannel(3, masses=[1.0]*3, isospin_value=1, isospin_flavor=1)\n",
    "fc3 = ampyl.FlavorChannel(3, masses=[2.0]*3, isospin_value=1, isospin_flavor=0)"
   ]
  },
  {
   "cell_type": "code",
   "execution_count": 34,
   "id": "ca4f5425",
   "metadata": {},
   "outputs": [],
   "source": [
    "fcs = ampyl.FlavorChannelSpace(fc_list=[fc1, fc2, fc3])"
   ]
  },
  {
   "cell_type": "code",
   "execution_count": 35,
   "id": "fb8dbde7",
   "metadata": {},
   "outputs": [
    {
     "name": "stdout",
     "output_type": "stream",
     "text": [
      "FlavorChannel with the following details:\n",
      "    3 particles,\n",
      "    masses: [1.0, 1.0, 1.0],\n",
      "    spins: [0, 0, 0],\n",
      "    explicit_flavor_channel: False,\n",
      "    explicit_flavors: None,\n",
      "    isospin_channel: True,\n",
      "    isospin_value: 1,\n",
      "    isospin_flavor: 0.\n",
      "FlavorChannel with the following details:\n",
      "    3 particles,\n",
      "    masses: [1.0, 1.0, 1.0],\n",
      "    spins: [0, 0, 0],\n",
      "    explicit_flavor_channel: False,\n",
      "    explicit_flavors: None,\n",
      "    isospin_channel: True,\n",
      "    isospin_value: 1,\n",
      "    isospin_flavor: 1.\n",
      "FlavorChannel with the following details:\n",
      "    3 particles,\n",
      "    masses: [2.0, 2.0, 2.0],\n",
      "    spins: [0, 0, 0],\n",
      "    explicit_flavor_channel: False,\n",
      "    explicit_flavors: None,\n",
      "    isospin_channel: True,\n",
      "    isospin_value: 1,\n",
      "    isospin_flavor: 0.\n"
     ]
    }
   ],
   "source": [
    "for fc in fcs.fc_list:\n",
    "    print(fc)"
   ]
  },
  {
   "cell_type": "code",
   "execution_count": 36,
   "id": "9da64475",
   "metadata": {},
   "outputs": [
    {
     "name": "stdout",
     "output_type": "stream",
     "text": [
      "True\n",
      "False\n"
     ]
    }
   ],
   "source": [
    "print(fcs.qcd_channel_space)\n",
    "print(fcs.explicit_flavor_channel_space)"
   ]
  },
  {
   "cell_type": "code",
   "execution_count": 37,
   "id": "54bffa1e",
   "metadata": {
    "scrolled": false
   },
   "outputs": [
    {
     "name": "stdout",
     "output_type": "stream",
     "text": [
      "SpectatorChannel with the following details:\n",
      "    3 particles,\n",
      "    masses: [1.0, 1.0, 1.0],\n",
      "    spins: [0, 0, 0],\n",
      "    explicit_flavor_channel: False,\n",
      "    explicit_flavors: None,\n",
      "    isospin_channel: True,\n",
      "    isospin_value: 1,\n",
      "    isospin_flavor: 0,\n",
      "    indexing: None,\n",
      "    sub_isospin: 0,\n",
      "    ellset: [0],\n",
      "    p_cot_deltas: [<function QCFunctions.pcotdelta_scattering_length at 0x7fb8e09f6700>],\n",
      "    n_params_set: [1],\n",
      "SpectatorChannel with the following details:\n",
      "    3 particles,\n",
      "    masses: [1.0, 1.0, 1.0],\n",
      "    spins: [0, 0, 0],\n",
      "    explicit_flavor_channel: False,\n",
      "    explicit_flavors: None,\n",
      "    isospin_channel: True,\n",
      "    isospin_value: 1,\n",
      "    isospin_flavor: 0,\n",
      "    indexing: None,\n",
      "    sub_isospin: 1,\n",
      "    ellset: [1],\n",
      "    p_cot_deltas: [<function QCFunctions.pcotdelta_scattering_length at 0x7fb8e09f6700>],\n",
      "    n_params_set: [1],\n",
      "SpectatorChannel with the following details:\n",
      "    3 particles,\n",
      "    masses: [1.0, 1.0, 1.0],\n",
      "    spins: [0, 0, 0],\n",
      "    explicit_flavor_channel: False,\n",
      "    explicit_flavors: None,\n",
      "    isospin_channel: True,\n",
      "    isospin_value: 1,\n",
      "    isospin_flavor: 0,\n",
      "    indexing: None,\n",
      "    sub_isospin: 2,\n",
      "    ellset: [0],\n",
      "    p_cot_deltas: [<function QCFunctions.pcotdelta_scattering_length at 0x7fb8e09f6700>],\n",
      "    n_params_set: [1],\n",
      "SpectatorChannel with the following details:\n",
      "    3 particles,\n",
      "    masses: [1.0, 1.0, 1.0],\n",
      "    spins: [0, 0, 0],\n",
      "    explicit_flavor_channel: False,\n",
      "    explicit_flavors: None,\n",
      "    isospin_channel: True,\n",
      "    isospin_value: 1,\n",
      "    isospin_flavor: 1,\n",
      "    indexing: None,\n",
      "    sub_isospin: 0,\n",
      "    ellset: [0],\n",
      "    p_cot_deltas: [<function QCFunctions.pcotdelta_scattering_length at 0x7fb8e09f6700>],\n",
      "    n_params_set: [1],\n",
      "SpectatorChannel with the following details:\n",
      "    3 particles,\n",
      "    masses: [1.0, 1.0, 1.0],\n",
      "    spins: [0, 0, 0],\n",
      "    explicit_flavor_channel: False,\n",
      "    explicit_flavors: None,\n",
      "    isospin_channel: True,\n",
      "    isospin_value: 1,\n",
      "    isospin_flavor: 1,\n",
      "    indexing: None,\n",
      "    sub_isospin: 1,\n",
      "    ellset: [1],\n",
      "    p_cot_deltas: [<function QCFunctions.pcotdelta_scattering_length at 0x7fb8e09f6700>],\n",
      "    n_params_set: [1],\n",
      "SpectatorChannel with the following details:\n",
      "    3 particles,\n",
      "    masses: [1.0, 1.0, 1.0],\n",
      "    spins: [0, 0, 0],\n",
      "    explicit_flavor_channel: False,\n",
      "    explicit_flavors: None,\n",
      "    isospin_channel: True,\n",
      "    isospin_value: 1,\n",
      "    isospin_flavor: 1,\n",
      "    indexing: None,\n",
      "    sub_isospin: 2,\n",
      "    ellset: [0],\n",
      "    p_cot_deltas: [<function QCFunctions.pcotdelta_scattering_length at 0x7fb8e09f6700>],\n",
      "    n_params_set: [1],\n",
      "SpectatorChannel with the following details:\n",
      "    3 particles,\n",
      "    masses: [2.0, 2.0, 2.0],\n",
      "    spins: [0, 0, 0],\n",
      "    explicit_flavor_channel: False,\n",
      "    explicit_flavors: None,\n",
      "    isospin_channel: True,\n",
      "    isospin_value: 1,\n",
      "    isospin_flavor: 0,\n",
      "    indexing: None,\n",
      "    sub_isospin: 0,\n",
      "    ellset: [0],\n",
      "    p_cot_deltas: [<function QCFunctions.pcotdelta_scattering_length at 0x7fb8e09f6700>],\n",
      "    n_params_set: [1],\n",
      "SpectatorChannel with the following details:\n",
      "    3 particles,\n",
      "    masses: [2.0, 2.0, 2.0],\n",
      "    spins: [0, 0, 0],\n",
      "    explicit_flavor_channel: False,\n",
      "    explicit_flavors: None,\n",
      "    isospin_channel: True,\n",
      "    isospin_value: 1,\n",
      "    isospin_flavor: 0,\n",
      "    indexing: None,\n",
      "    sub_isospin: 1,\n",
      "    ellset: [1],\n",
      "    p_cot_deltas: [<function QCFunctions.pcotdelta_scattering_length at 0x7fb8e09f6700>],\n",
      "    n_params_set: [1],\n",
      "SpectatorChannel with the following details:\n",
      "    3 particles,\n",
      "    masses: [2.0, 2.0, 2.0],\n",
      "    spins: [0, 0, 0],\n",
      "    explicit_flavor_channel: False,\n",
      "    explicit_flavors: None,\n",
      "    isospin_channel: True,\n",
      "    isospin_value: 1,\n",
      "    isospin_flavor: 0,\n",
      "    indexing: None,\n",
      "    sub_isospin: 2,\n",
      "    ellset: [0],\n",
      "    p_cot_deltas: [<function QCFunctions.pcotdelta_scattering_length at 0x7fb8e09f6700>],\n",
      "    n_params_set: [1],\n"
     ]
    }
   ],
   "source": [
    "for sc in fcs.sc_list:\n",
    "    print(sc)"
   ]
  },
  {
   "cell_type": "code",
   "execution_count": 38,
   "id": "7f6a3e5a",
   "metadata": {},
   "outputs": [
    {
     "name": "stdout",
     "output_type": "stream",
     "text": [
      "[array([[3., 1., 1., 1., 0., 0., 0., 0., 1., 0.],\n",
      "       [3., 1., 1., 1., 0., 0., 0., 0., 1., 1.],\n",
      "       [3., 1., 1., 1., 0., 0., 0., 0., 1., 2.],\n",
      "       [3., 1., 1., 1., 0., 0., 0., 1., 1., 0.],\n",
      "       [3., 1., 1., 1., 0., 0., 0., 1., 1., 1.],\n",
      "       [3., 1., 1., 1., 0., 0., 0., 1., 1., 2.],\n",
      "       [3., 2., 2., 2., 0., 0., 0., 0., 1., 0.],\n",
      "       [3., 2., 2., 2., 0., 0., 0., 0., 1., 1.],\n",
      "       [3., 2., 2., 2., 0., 0., 0., 0., 1., 2.]])]\n"
     ]
    }
   ],
   "source": [
    "print(fcs.sc_compact)"
   ]
  },
  {
   "cell_type": "code",
   "execution_count": 39,
   "id": "5b7f2b72",
   "metadata": {},
   "outputs": [
    {
     "name": "stdout",
     "output_type": "stream",
     "text": [
      "[[0, 6], [6, 9]]\n",
      "0\n",
      "[[3. 1. 1. 1. 0. 0. 0. 0. 1. 0.]\n",
      " [3. 1. 1. 1. 0. 0. 0. 0. 1. 1.]\n",
      " [3. 1. 1. 1. 0. 0. 0. 0. 1. 2.]\n",
      " [3. 1. 1. 1. 0. 0. 0. 1. 1. 0.]\n",
      " [3. 1. 1. 1. 0. 0. 0. 1. 1. 1.]\n",
      " [3. 1. 1. 1. 0. 0. 0. 1. 1. 2.]]\n",
      "[[3. 2. 2. 2. 0. 0. 0. 0. 1. 0.]\n",
      " [3. 2. 2. 2. 0. 0. 0. 0. 1. 1.]\n",
      " [3. 2. 2. 2. 0. 0. 0. 0. 1. 2.]]\n"
     ]
    }
   ],
   "source": [
    "print(fcs.three_slicings)\n",
    "print(fcs.threeindex)\n",
    "for stmp in fcs.three_slicings:\n",
    "    print(fcs.sc_compact[fcs.threeindex][stmp[0]:stmp[1]])"
   ]
  },
  {
   "cell_type": "code",
   "execution_count": 40,
   "id": "a29ebab2",
   "metadata": {},
   "outputs": [
    {
     "data": {
      "text/plain": [
       "[<ampyl._SpectatorChannel at 0x7fb8d1a336a0>,\n",
       " <ampyl._SpectatorChannel at 0x7fb8d1a33370>,\n",
       " <ampyl._SpectatorChannel at 0x7fb8d1a33d90>,\n",
       " <ampyl._SpectatorChannel at 0x7fb8d1a33f70>,\n",
       " <ampyl._SpectatorChannel at 0x7fb8d1a338b0>,\n",
       " <ampyl._SpectatorChannel at 0x7fb8d1a33490>,\n",
       " <ampyl._SpectatorChannel at 0x7fb8d1a33bb0>,\n",
       " <ampyl._SpectatorChannel at 0x7fb8d1a33df0>,\n",
       " <ampyl._SpectatorChannel at 0x7fb8d1a332e0>]"
      ]
     },
     "execution_count": 40,
     "metadata": {},
     "output_type": "execute_result"
    }
   ],
   "source": [
    "fcs.sc_list"
   ]
  },
  {
   "cell_type": "code",
   "execution_count": 41,
   "id": "65d6d86b",
   "metadata": {},
   "outputs": [
    {
     "name": "stdout",
     "output_type": "stream",
     "text": [
      "FlavorChannel with the following details:\n",
      "    3 particles,\n",
      "    masses: [2.0, 2.0, 1.0],\n",
      "    spins: [0, 0, 0],\n",
      "    explicit_flavor_channel: True,\n",
      "    explicit_flavors: [1, 1, 2],\n",
      "    isospin_channel: False,\n",
      "    isospin_value: None,\n",
      "    isospin_flavor: None.\n",
      "SpectatorChannel with the following details:\n",
      "    3 particles,\n",
      "    masses: [2.0, 2.0, 1.0],\n",
      "    spins: [0, 0, 0],\n",
      "    explicit_flavor_channel: True,\n",
      "    explicit_flavors: [1, 1, 2],\n",
      "    isospin_channel: False,\n",
      "    isospin_value: None,\n",
      "    isospin_flavor: None,\n",
      "    indexing: [0, 1, 2],\n",
      "    sub_isospin: None,\n",
      "    ellset: [0],\n",
      "    p_cot_deltas: [<function QCFunctions.pcotdelta_scattering_length at 0x7fb8e09f6700>],\n",
      "    n_params_set: [1],\n",
      "SpectatorChannel with the following details:\n",
      "    3 particles,\n",
      "    masses: [2.0, 2.0, 1.0],\n",
      "    spins: [0, 0, 0],\n",
      "    explicit_flavor_channel: True,\n",
      "    explicit_flavors: [1, 1, 2],\n",
      "    isospin_channel: False,\n",
      "    isospin_value: None,\n",
      "    isospin_flavor: None,\n",
      "    indexing: [2, 0, 1],\n",
      "    sub_isospin: None,\n",
      "    ellset: [0],\n",
      "    p_cot_deltas: [<function QCFunctions.pcotdelta_scattering_length at 0x7fb8e09f6700>],\n",
      "    n_params_set: [1],\n",
      "[[0, 1], [1, 2]]\n",
      "0\n",
      "[[3. 1. 2. 2. 0. 0. 0. 2. 1. 1.]]\n",
      "[[3. 2. 2. 1. 0. 0. 0. 1. 1. 2.]]\n",
      "False\n",
      "True\n",
      "[[array([[0.]]), array([[1.]])], [array([[1.]]), array([[1.]])]]\n"
     ]
    }
   ],
   "source": [
    "fc1 = ampyl.FlavorChannel(3, masses=[2.0, 2.0, 1.0], explicit_flavors=[1, 1, 2])\n",
    "# fc2 = ampyl.FlavorChannel(3, masses=[1.0]*3, explicit_flavors=[1, 1, 1])\n",
    "# fc3 = ampyl.FlavorChannel(3, masses=[2.0]*3, explicit_flavors=[1, 2, 3])\n",
    "# fcs = ampyl.FlavorChannelSpace(fc_list=[fc1, fc2, fc3])\n",
    "fcs = ampyl.FlavorChannelSpace(fc_list=[fc1])\n",
    "for fc in fcs.fc_list:\n",
    "    print(fc)\n",
    "for sc in fcs.sc_list:\n",
    "    print(sc)\n",
    "print(fcs.three_slicings)\n",
    "print(fcs.threeindex)\n",
    "for stmp in fcs.three_slicings:\n",
    "    print(fcs.sc_compact[fcs.threeindex][stmp[0]:stmp[1]])\n",
    "print(fcs.qcd_channel_space)\n",
    "print(fcs.explicit_flavor_channel_space)\n",
    "print(fcs.g_templates)"
   ]
  },
  {
   "cell_type": "code",
   "execution_count": null,
   "id": "1df7ca68",
   "metadata": {},
   "outputs": [],
   "source": []
  },
  {
   "cell_type": "code",
   "execution_count": null,
   "id": "4c0ceec5",
   "metadata": {},
   "outputs": [],
   "source": []
  }
 ],
 "metadata": {
  "kernelspec": {
   "display_name": "Python 3 (ipykernel)",
   "language": "python",
   "name": "python3"
  },
  "language_info": {
   "codemirror_mode": {
    "name": "ipython",
    "version": 3
   },
   "file_extension": ".py",
   "mimetype": "text/x-python",
   "name": "python",
   "nbconvert_exporter": "python",
   "pygments_lexer": "ipython3",
   "version": "3.9.7"
  }
 },
 "nbformat": 4,
 "nbformat_minor": 5
}
