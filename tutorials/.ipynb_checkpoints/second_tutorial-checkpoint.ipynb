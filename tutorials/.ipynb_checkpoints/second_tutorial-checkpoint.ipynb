{
 "cells": [
  {
   "cell_type": "code",
   "execution_count": 1,
   "id": "8acc0ae6",
   "metadata": {},
   "outputs": [],
   "source": [
    "%load_ext autoreload\n",
    "%autoreload 2"
   ]
  },
  {
   "cell_type": "code",
   "execution_count": 2,
   "id": "bab093ea",
   "metadata": {},
   "outputs": [],
   "source": [
    "import os\n",
    "import sys\n",
    "import numpy as np\n",
    "sys.path.append(os.path.abspath('.')+'/../ampyl')\n",
    "import ampyl\n",
    "import pickle as pkl\n",
    "# sys.path.append(os.path.abspath('.')+'/../../chatter_pa/chatter/chatter')\n",
    "# import chatter"
   ]
  },
  {
   "cell_type": "markdown",
   "id": "72f869d0",
   "metadata": {},
   "source": [
    "## P=[000]"
   ]
  },
  {
   "cell_type": "code",
   "execution_count": 3,
   "id": "8601cf9b",
   "metadata": {},
   "outputs": [
    {
     "name": "stdout",
     "output_type": "stream",
     "text": [
      "FlavorChannel with the following details:\n",
      "    3 particles,\n",
      "    masses: [1.0, 1.0, 1.0],\n",
      "    spins: [0, 0, 0],\n",
      "    explicit_flavor_channel: True,\n",
      "    explicit_flavors: [1, 1, 1],\n",
      "    isospin_channel: False,\n",
      "    isospin_value: None,\n",
      "    isospin_flavor: None.\n"
     ]
    }
   ],
   "source": [
    "fc = ampyl.FlavorChannel(3)\n",
    "print(fc)\n",
    "fcs = ampyl.FlavorChannelSpace(fc_list=[fc])\n",
    "fvs = ampyl.FiniteVolumeSetup(nP=np.array([0, 0, 1]))\n",
    "tbis = ampyl.ThreeBodyInteractionScheme()\n",
    "qcis = ampyl.QCIndexSpace(fcs=fcs, fvs=fvs, tbis=tbis, Emax=5.0, Lmax=7.0)"
   ]
  },
  {
   "cell_type": "code",
   "execution_count": 4,
   "id": "9f67c8c2",
   "metadata": {},
   "outputs": [],
   "source": [
    "# fcs_chatter = chatter.FlavorChannelSpace(qcd_channel_space=True)\n",
    "# fcs_chatter.add_flavor_channel(chatter.FlavorChannel(qcd_channel=True, isospin_value=2))\n",
    "\n",
    "# scs_chatter = chatter.SpectatorChannelSpace()\n",
    "# scs_chatter.add_flavor_channel_space(fcs_chatter)\n",
    "\n",
    "# fvs_chatter = chatter.FiniteVolumeSetup(qc_organization=chatter.qc_org_cat.HERMITIAN_REAL_HARMONICS)\n",
    "# tbis_chatter = chatter.ThreeBodyInteractionScheme(fcs=fcs_chatter, Emin=0.0, three_scheme=chatter.three_scheme_cat.RELPOLE)\n",
    "# qcis_chatter = chatter.QCIndexSpace(scs=scs_chatter, fvs=fvs_chatter, tbis=tbis_chatter, Emax=5.0, Lmax=5.0)\n",
    "# qcis_chatter.populate_all_nvec_arr()\n",
    "# qcis_chatter.populate_all_kellm_spaces()\n",
    "# qcis_chatter.populate_all_proj_dicts()\n",
    "# qcis_chatter.populate_crossed_space()"
   ]
  },
  {
   "cell_type": "code",
   "execution_count": 5,
   "id": "13bf3675",
   "metadata": {},
   "outputs": [],
   "source": [
    "g_ampyl = ampyl.G(qcis=qcis)\n",
    "G_ampyl = g_ampyl.get_value(E=5.0, L=7.0)"
   ]
  },
  {
   "cell_type": "code",
   "execution_count": 6,
   "id": "1f78a2e9",
   "metadata": {},
   "outputs": [
    {
     "name": "stdout",
     "output_type": "stream",
     "text": [
      "[[ 2.95367113e-07  2.61139100e-07  3.55820711e-07 ... -9.48994173e-08\n",
      "  -9.48994173e-08 -1.24958820e-07]\n",
      " [ 2.61139100e-07  3.32255874e-07  3.32255874e-07 ... -3.65933117e-08\n",
      "  -3.65933117e-08 -3.59388103e-08]\n",
      " [ 3.55820711e-07  3.32255874e-07  3.68696147e-06 ... -4.84488499e-08\n",
      "  -1.37623930e-07 -6.21775401e-08]\n",
      " ...\n",
      " [-9.48994173e-08 -3.65933117e-08 -4.84488499e-08 ... -2.35707913e-09\n",
      "  -3.40573861e-09 -3.35467692e-09]\n",
      " [-9.48994173e-08 -3.65933117e-08 -1.37623930e-07 ... -3.40573861e-09\n",
      "  -2.35707913e-09 -3.35467692e-09]\n",
      " [-1.24958820e-07 -3.59388103e-08 -6.21775401e-08 ... -3.35467692e-09\n",
      "  -3.35467692e-09 -3.10921504e-09]]\n"
     ]
    }
   ],
   "source": [
    "print(G_ampyl)"
   ]
  },
  {
   "cell_type": "code",
   "execution_count": 7,
   "id": "a9ef2234",
   "metadata": {},
   "outputs": [
    {
     "data": {
      "text/plain": [
       "True"
      ]
     },
     "execution_count": 7,
     "metadata": {},
     "output_type": "execute_result"
    }
   ],
   "source": [
    "filename = '/Users/mhansen3/tmppickle'\n",
    "fileObject = open(filename, 'rb')\n",
    "G_chatter = pkl.load(fileObject)\n",
    "fileObject.close()\n",
    "(np.abs(G_chatter - G_ampyl) < 1.0e-14).all()"
   ]
  },
  {
   "cell_type": "code",
   "execution_count": 8,
   "id": "e954adbe",
   "metadata": {},
   "outputs": [],
   "source": [
    "# g_chatter = chatter.G(qcis=qcis_chatter)\n",
    "# G_chatter = g_chatter.get_numpy_shell_acc(E=5.0, L=5.0, project=False)"
   ]
  },
  {
   "cell_type": "code",
   "execution_count": 9,
   "id": "0f65d97a",
   "metadata": {
    "scrolled": false
   },
   "outputs": [],
   "source": [
    "# (np.abs(G_ampyl - G_chatter) < 1.0e-15).all()"
   ]
  },
  {
   "cell_type": "markdown",
   "id": "274b1d6d",
   "metadata": {},
   "source": [
    "## P=[001]"
   ]
  },
  {
   "cell_type": "code",
   "execution_count": 10,
   "id": "c59d30b4",
   "metadata": {},
   "outputs": [],
   "source": [
    "# fc = ampyl.FlavorChannel(3, isospin_value=2)\n",
    "# fcs = ampyl.FlavorChannelSpace(fc_list=[fc])\n",
    "# fvs = ampyl.FiniteVolumeSetup(nP=np.array([0, 0, 1]))\n",
    "# tbis = ampyl.ThreeBodyInteractionScheme()\n",
    "# qcis = ampyl.QCIndexSpace(fcs=fcs, fvs=fvs, tbis=tbis, Emax=5.0, Lmax=5.0)"
   ]
  },
  {
   "cell_type": "code",
   "execution_count": 11,
   "id": "8ec2a889",
   "metadata": {},
   "outputs": [],
   "source": [
    "# fcs_chatter = chatter.FlavorChannelSpace(qcd_channel_space=True)\n",
    "# fcs_chatter.add_flavor_channel(chatter.FlavorChannel(qcd_channel=True, isospin_value=2))\n",
    "\n",
    "# scs_chatter = chatter.SpectatorChannelSpace()\n",
    "# scs_chatter.add_flavor_channel_space(fcs_chatter)\n",
    "\n",
    "# fvs_chatter = chatter.FiniteVolumeSetup(nP=np.array([0, 0, 1]),\n",
    "#                                         qc_organization=chatter.qc_org_cat.HERMITIAN_REAL_HARMONICS)\n",
    "# tbis_chatter = chatter.ThreeBodyInteractionScheme(fcs=fcs_chatter, Emin=0.0, three_scheme=chatter.three_scheme_cat.RELPOLE)\n",
    "# qcis_chatter = chatter.QCIndexSpace(scs=scs_chatter, fvs=fvs_chatter, tbis=tbis_chatter, Emax=5.0, Lmax=5.0)"
   ]
  },
  {
   "cell_type": "code",
   "execution_count": 12,
   "id": "61512e6b",
   "metadata": {},
   "outputs": [],
   "source": [
    "# g_ampyl = ampyl.G(qcis=qcis)\n",
    "# G_ampyl = g_ampyl.get_value(E=5.0, L=5.0)"
   ]
  },
  {
   "cell_type": "code",
   "execution_count": 13,
   "id": "90e75e85",
   "metadata": {
    "scrolled": true
   },
   "outputs": [],
   "source": [
    "# g_chatter = chatter.G(qcis=qcis_chatter)\n",
    "# G_chatter = g_chatter.get_numpy_shell_acc(E=5.0, L=5.0, project=False)"
   ]
  },
  {
   "cell_type": "code",
   "execution_count": 14,
   "id": "6fe68169",
   "metadata": {
    "scrolled": false
   },
   "outputs": [],
   "source": [
    "# (np.abs(G_ampyl - G_chatter) < 1.0e-15).all()"
   ]
  }
 ],
 "metadata": {
  "kernelspec": {
   "display_name": "Python 3 (ipykernel)",
   "language": "python",
   "name": "python3"
  },
  "language_info": {
   "codemirror_mode": {
    "name": "ipython",
    "version": 3
   },
   "file_extension": ".py",
   "mimetype": "text/x-python",
   "name": "python",
   "nbconvert_exporter": "python",
   "pygments_lexer": "ipython3",
   "version": "3.9.7"
  }
 },
 "nbformat": 4,
 "nbformat_minor": 5
}
